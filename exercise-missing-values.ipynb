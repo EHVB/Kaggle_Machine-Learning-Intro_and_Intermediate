{
 "cells": [
  {
   "cell_type": "markdown",
   "id": "2594b44f",
   "metadata": {
    "papermill": {
     "duration": 0.01078,
     "end_time": "2022-08-19T04:01:47.944376",
     "exception": false,
     "start_time": "2022-08-19T04:01:47.933596",
     "status": "completed"
    },
    "tags": []
   },
   "source": [
    "**This notebook is an exercise in the [Intermediate Machine Learning](https://www.kaggle.com/learn/intermediate-machine-learning) course.  You can reference the tutorial at [this link](https://www.kaggle.com/alexisbcook/missing-values).**\n",
    "\n",
    "---\n"
   ]
  },
  {
   "cell_type": "markdown",
   "id": "360118e5",
   "metadata": {
    "papermill": {
     "duration": 0.008176,
     "end_time": "2022-08-19T04:01:47.961488",
     "exception": false,
     "start_time": "2022-08-19T04:01:47.953312",
     "status": "completed"
    },
    "tags": []
   },
   "source": [
    "Now it's your turn to test your new knowledge of **missing values** handling. You'll probably find it makes a big difference.\n",
    "\n",
    "# Setup\n",
    "\n",
    "The questions will give you feedback on your work. Run the following cell to set up the feedback system."
   ]
  },
  {
   "cell_type": "code",
   "execution_count": 1,
   "id": "973f42c5",
   "metadata": {
    "execution": {
     "iopub.execute_input": "2022-08-19T04:01:47.980842Z",
     "iopub.status.busy": "2022-08-19T04:01:47.980055Z",
     "iopub.status.idle": "2022-08-19T04:01:48.040663Z",
     "shell.execute_reply": "2022-08-19T04:01:48.039716Z"
    },
    "papermill": {
     "duration": 0.073719,
     "end_time": "2022-08-19T04:01:48.043804",
     "exception": false,
     "start_time": "2022-08-19T04:01:47.970085",
     "status": "completed"
    },
    "tags": []
   },
   "outputs": [
    {
     "name": "stdout",
     "output_type": "stream",
     "text": [
      "Setup Complete\n"
     ]
    }
   ],
   "source": [
    "# Set up code checking\n",
    "import os\n",
    "if not os.path.exists(\"../input/train.csv\"):\n",
    "    os.symlink(\"../input/home-data-for-ml-course/train.csv\", \"../input/train.csv\")  \n",
    "    os.symlink(\"../input/home-data-for-ml-course/test.csv\", \"../input/test.csv\") \n",
    "from learntools.core import binder\n",
    "binder.bind(globals())\n",
    "from learntools.ml_intermediate.ex2 import *\n",
    "print(\"Setup Complete\")"
   ]
  },
  {
   "cell_type": "markdown",
   "id": "36280264",
   "metadata": {
    "papermill": {
     "duration": 0.008295,
     "end_time": "2022-08-19T04:01:48.062648",
     "exception": false,
     "start_time": "2022-08-19T04:01:48.054353",
     "status": "completed"
    },
    "tags": []
   },
   "source": [
    "In this exercise, you will work with data from the [Housing Prices Competition for Kaggle Learn Users](https://www.kaggle.com/c/home-data-for-ml-course). \n",
    "\n",
    "![Ames Housing dataset image](https://i.imgur.com/lTJVG4e.png)\n",
    "\n",
    "Run the next code cell without changes to load the training and validation sets in `X_train`, `X_valid`, `y_train`, and `y_valid`.  The test set is loaded in `X_test`."
   ]
  },
  {
   "cell_type": "code",
   "execution_count": 2,
   "id": "28cdb5c2",
   "metadata": {
    "execution": {
     "iopub.execute_input": "2022-08-19T04:01:48.081766Z",
     "iopub.status.busy": "2022-08-19T04:01:48.081044Z",
     "iopub.status.idle": "2022-08-19T04:01:49.289250Z",
     "shell.execute_reply": "2022-08-19T04:01:49.288102Z"
    },
    "papermill": {
     "duration": 1.221556,
     "end_time": "2022-08-19T04:01:49.292725",
     "exception": false,
     "start_time": "2022-08-19T04:01:48.071169",
     "status": "completed"
    },
    "tags": []
   },
   "outputs": [],
   "source": [
    "import pandas as pd\n",
    "from sklearn.model_selection import train_test_split\n",
    "\n",
    "# Read the data\n",
    "X_full = pd.read_csv('../input/train.csv', index_col='Id')\n",
    "X_test_full = pd.read_csv('../input/test.csv', index_col='Id')\n",
    "\n",
    "# Remove rows with missing target, separate target from predictors\n",
    "X_full.dropna(axis=0, subset=['SalePrice'], inplace=True)\n",
    "y = X_full.SalePrice\n",
    "X_full.drop(['SalePrice'], axis=1, inplace=True)\n",
    "\n",
    "# To keep things simple, we'll use only numerical predictors\n",
    "X = X_full.select_dtypes(exclude=['object'])\n",
    "X_test = X_test_full.select_dtypes(exclude=['object'])\n",
    "\n",
    "# Break off validation set from training data\n",
    "X_train, X_valid, y_train, y_valid = train_test_split(X, y, train_size=0.8, test_size=0.2,\n",
    "                                                      random_state=0)"
   ]
  },
  {
   "cell_type": "markdown",
   "id": "59e8ba0a",
   "metadata": {
    "papermill": {
     "duration": 0.008275,
     "end_time": "2022-08-19T04:01:49.312180",
     "exception": false,
     "start_time": "2022-08-19T04:01:49.303905",
     "status": "completed"
    },
    "tags": []
   },
   "source": [
    "Use the next code cell to print the first five rows of the data."
   ]
  },
  {
   "cell_type": "code",
   "execution_count": 3,
   "id": "2e662b12",
   "metadata": {
    "execution": {
     "iopub.execute_input": "2022-08-19T04:01:49.332112Z",
     "iopub.status.busy": "2022-08-19T04:01:49.330952Z",
     "iopub.status.idle": "2022-08-19T04:01:49.361979Z",
     "shell.execute_reply": "2022-08-19T04:01:49.360756Z"
    },
    "papermill": {
     "duration": 0.043871,
     "end_time": "2022-08-19T04:01:49.364652",
     "exception": false,
     "start_time": "2022-08-19T04:01:49.320781",
     "status": "completed"
    },
    "tags": []
   },
   "outputs": [
    {
     "data": {
      "text/html": [
       "<div>\n",
       "<style scoped>\n",
       "    .dataframe tbody tr th:only-of-type {\n",
       "        vertical-align: middle;\n",
       "    }\n",
       "\n",
       "    .dataframe tbody tr th {\n",
       "        vertical-align: top;\n",
       "    }\n",
       "\n",
       "    .dataframe thead th {\n",
       "        text-align: right;\n",
       "    }\n",
       "</style>\n",
       "<table border=\"1\" class=\"dataframe\">\n",
       "  <thead>\n",
       "    <tr style=\"text-align: right;\">\n",
       "      <th></th>\n",
       "      <th>MSSubClass</th>\n",
       "      <th>LotFrontage</th>\n",
       "      <th>LotArea</th>\n",
       "      <th>OverallQual</th>\n",
       "      <th>OverallCond</th>\n",
       "      <th>YearBuilt</th>\n",
       "      <th>YearRemodAdd</th>\n",
       "      <th>MasVnrArea</th>\n",
       "      <th>BsmtFinSF1</th>\n",
       "      <th>BsmtFinSF2</th>\n",
       "      <th>...</th>\n",
       "      <th>GarageArea</th>\n",
       "      <th>WoodDeckSF</th>\n",
       "      <th>OpenPorchSF</th>\n",
       "      <th>EnclosedPorch</th>\n",
       "      <th>3SsnPorch</th>\n",
       "      <th>ScreenPorch</th>\n",
       "      <th>PoolArea</th>\n",
       "      <th>MiscVal</th>\n",
       "      <th>MoSold</th>\n",
       "      <th>YrSold</th>\n",
       "    </tr>\n",
       "    <tr>\n",
       "      <th>Id</th>\n",
       "      <th></th>\n",
       "      <th></th>\n",
       "      <th></th>\n",
       "      <th></th>\n",
       "      <th></th>\n",
       "      <th></th>\n",
       "      <th></th>\n",
       "      <th></th>\n",
       "      <th></th>\n",
       "      <th></th>\n",
       "      <th></th>\n",
       "      <th></th>\n",
       "      <th></th>\n",
       "      <th></th>\n",
       "      <th></th>\n",
       "      <th></th>\n",
       "      <th></th>\n",
       "      <th></th>\n",
       "      <th></th>\n",
       "      <th></th>\n",
       "      <th></th>\n",
       "    </tr>\n",
       "  </thead>\n",
       "  <tbody>\n",
       "    <tr>\n",
       "      <th>619</th>\n",
       "      <td>20</td>\n",
       "      <td>90.0</td>\n",
       "      <td>11694</td>\n",
       "      <td>9</td>\n",
       "      <td>5</td>\n",
       "      <td>2007</td>\n",
       "      <td>2007</td>\n",
       "      <td>452.0</td>\n",
       "      <td>48</td>\n",
       "      <td>0</td>\n",
       "      <td>...</td>\n",
       "      <td>774</td>\n",
       "      <td>0</td>\n",
       "      <td>108</td>\n",
       "      <td>0</td>\n",
       "      <td>0</td>\n",
       "      <td>260</td>\n",
       "      <td>0</td>\n",
       "      <td>0</td>\n",
       "      <td>7</td>\n",
       "      <td>2007</td>\n",
       "    </tr>\n",
       "    <tr>\n",
       "      <th>871</th>\n",
       "      <td>20</td>\n",
       "      <td>60.0</td>\n",
       "      <td>6600</td>\n",
       "      <td>5</td>\n",
       "      <td>5</td>\n",
       "      <td>1962</td>\n",
       "      <td>1962</td>\n",
       "      <td>0.0</td>\n",
       "      <td>0</td>\n",
       "      <td>0</td>\n",
       "      <td>...</td>\n",
       "      <td>308</td>\n",
       "      <td>0</td>\n",
       "      <td>0</td>\n",
       "      <td>0</td>\n",
       "      <td>0</td>\n",
       "      <td>0</td>\n",
       "      <td>0</td>\n",
       "      <td>0</td>\n",
       "      <td>8</td>\n",
       "      <td>2009</td>\n",
       "    </tr>\n",
       "    <tr>\n",
       "      <th>93</th>\n",
       "      <td>30</td>\n",
       "      <td>80.0</td>\n",
       "      <td>13360</td>\n",
       "      <td>5</td>\n",
       "      <td>7</td>\n",
       "      <td>1921</td>\n",
       "      <td>2006</td>\n",
       "      <td>0.0</td>\n",
       "      <td>713</td>\n",
       "      <td>0</td>\n",
       "      <td>...</td>\n",
       "      <td>432</td>\n",
       "      <td>0</td>\n",
       "      <td>0</td>\n",
       "      <td>44</td>\n",
       "      <td>0</td>\n",
       "      <td>0</td>\n",
       "      <td>0</td>\n",
       "      <td>0</td>\n",
       "      <td>8</td>\n",
       "      <td>2009</td>\n",
       "    </tr>\n",
       "    <tr>\n",
       "      <th>818</th>\n",
       "      <td>20</td>\n",
       "      <td>NaN</td>\n",
       "      <td>13265</td>\n",
       "      <td>8</td>\n",
       "      <td>5</td>\n",
       "      <td>2002</td>\n",
       "      <td>2002</td>\n",
       "      <td>148.0</td>\n",
       "      <td>1218</td>\n",
       "      <td>0</td>\n",
       "      <td>...</td>\n",
       "      <td>857</td>\n",
       "      <td>150</td>\n",
       "      <td>59</td>\n",
       "      <td>0</td>\n",
       "      <td>0</td>\n",
       "      <td>0</td>\n",
       "      <td>0</td>\n",
       "      <td>0</td>\n",
       "      <td>7</td>\n",
       "      <td>2008</td>\n",
       "    </tr>\n",
       "    <tr>\n",
       "      <th>303</th>\n",
       "      <td>20</td>\n",
       "      <td>118.0</td>\n",
       "      <td>13704</td>\n",
       "      <td>7</td>\n",
       "      <td>5</td>\n",
       "      <td>2001</td>\n",
       "      <td>2002</td>\n",
       "      <td>150.0</td>\n",
       "      <td>0</td>\n",
       "      <td>0</td>\n",
       "      <td>...</td>\n",
       "      <td>843</td>\n",
       "      <td>468</td>\n",
       "      <td>81</td>\n",
       "      <td>0</td>\n",
       "      <td>0</td>\n",
       "      <td>0</td>\n",
       "      <td>0</td>\n",
       "      <td>0</td>\n",
       "      <td>1</td>\n",
       "      <td>2006</td>\n",
       "    </tr>\n",
       "  </tbody>\n",
       "</table>\n",
       "<p>5 rows × 36 columns</p>\n",
       "</div>"
      ],
      "text/plain": [
       "     MSSubClass  LotFrontage  LotArea  OverallQual  OverallCond  YearBuilt  \\\n",
       "Id                                                                           \n",
       "619          20         90.0    11694            9            5       2007   \n",
       "871          20         60.0     6600            5            5       1962   \n",
       "93           30         80.0    13360            5            7       1921   \n",
       "818          20          NaN    13265            8            5       2002   \n",
       "303          20        118.0    13704            7            5       2001   \n",
       "\n",
       "     YearRemodAdd  MasVnrArea  BsmtFinSF1  BsmtFinSF2  ...  GarageArea  \\\n",
       "Id                                                     ...               \n",
       "619          2007       452.0          48           0  ...         774   \n",
       "871          1962         0.0           0           0  ...         308   \n",
       "93           2006         0.0         713           0  ...         432   \n",
       "818          2002       148.0        1218           0  ...         857   \n",
       "303          2002       150.0           0           0  ...         843   \n",
       "\n",
       "     WoodDeckSF  OpenPorchSF  EnclosedPorch  3SsnPorch  ScreenPorch  PoolArea  \\\n",
       "Id                                                                              \n",
       "619           0          108              0          0          260         0   \n",
       "871           0            0              0          0            0         0   \n",
       "93            0            0             44          0            0         0   \n",
       "818         150           59              0          0            0         0   \n",
       "303         468           81              0          0            0         0   \n",
       "\n",
       "     MiscVal  MoSold  YrSold  \n",
       "Id                            \n",
       "619        0       7    2007  \n",
       "871        0       8    2009  \n",
       "93         0       8    2009  \n",
       "818        0       7    2008  \n",
       "303        0       1    2006  \n",
       "\n",
       "[5 rows x 36 columns]"
      ]
     },
     "execution_count": 3,
     "metadata": {},
     "output_type": "execute_result"
    }
   ],
   "source": [
    "X_train.head()"
   ]
  },
  {
   "cell_type": "markdown",
   "id": "753ad986",
   "metadata": {
    "papermill": {
     "duration": 0.008786,
     "end_time": "2022-08-19T04:01:49.383786",
     "exception": false,
     "start_time": "2022-08-19T04:01:49.375000",
     "status": "completed"
    },
    "tags": []
   },
   "source": [
    "You can already see a few missing values in the first several rows.  In the next step, you'll obtain a more comprehensive understanding of the missing values in the dataset.\n",
    "\n",
    "# Step 1: Preliminary investigation\n",
    "\n",
    "Run the code cell below without changes."
   ]
  },
  {
   "cell_type": "code",
   "execution_count": 4,
   "id": "3f18a48d",
   "metadata": {
    "execution": {
     "iopub.execute_input": "2022-08-19T04:01:49.406751Z",
     "iopub.status.busy": "2022-08-19T04:01:49.406018Z",
     "iopub.status.idle": "2022-08-19T04:01:49.414675Z",
     "shell.execute_reply": "2022-08-19T04:01:49.413377Z"
    },
    "papermill": {
     "duration": 0.021832,
     "end_time": "2022-08-19T04:01:49.417221",
     "exception": false,
     "start_time": "2022-08-19T04:01:49.395389",
     "status": "completed"
    },
    "tags": []
   },
   "outputs": [
    {
     "name": "stdout",
     "output_type": "stream",
     "text": [
      "(1168, 36)\n",
      "LotFrontage    212\n",
      "MasVnrArea       6\n",
      "GarageYrBlt     58\n",
      "dtype: int64\n"
     ]
    }
   ],
   "source": [
    "# Shape of training data (num_rows, num_columns)\n",
    "print(X_train.shape)\n",
    "\n",
    "# Number of missing values in each column of training data\n",
    "missing_val_count_by_column = (X_train.isnull().sum())\n",
    "print(missing_val_count_by_column[missing_val_count_by_column > 0])"
   ]
  },
  {
   "cell_type": "markdown",
   "id": "6143b387",
   "metadata": {
    "papermill": {
     "duration": 0.00887,
     "end_time": "2022-08-19T04:01:49.435347",
     "exception": false,
     "start_time": "2022-08-19T04:01:49.426477",
     "status": "completed"
    },
    "tags": []
   },
   "source": [
    "### Part A\n",
    "\n",
    "Use the above output to answer the questions below."
   ]
  },
  {
   "cell_type": "code",
   "execution_count": 5,
   "id": "fcfd43e8",
   "metadata": {
    "execution": {
     "iopub.execute_input": "2022-08-19T04:01:49.456011Z",
     "iopub.status.busy": "2022-08-19T04:01:49.455056Z",
     "iopub.status.idle": "2022-08-19T04:01:49.464145Z",
     "shell.execute_reply": "2022-08-19T04:01:49.463024Z"
    },
    "papermill": {
     "duration": 0.021851,
     "end_time": "2022-08-19T04:01:49.466351",
     "exception": false,
     "start_time": "2022-08-19T04:01:49.444500",
     "status": "completed"
    },
    "tags": []
   },
   "outputs": [
    {
     "data": {
      "application/javascript": [
       "parent.postMessage({\"jupyterEvent\": \"custom.exercise_interaction\", \"data\": {\"outcomeType\": 1, \"valueTowardsCompletion\": 1.0, \"interactionType\": 1, \"questionType\": 1, \"questionId\": \"1.1_InvestigateEquality\", \"learnToolsVersion\": \"0.3.4\", \"failureMessage\": \"\", \"exceptionClass\": \"\", \"trace\": \"\"}}, \"*\")"
      ],
      "text/plain": [
       "<IPython.core.display.Javascript object>"
      ]
     },
     "metadata": {},
     "output_type": "display_data"
    },
    {
     "data": {
      "text/markdown": [
       "<span style=\"color:#33cc33\">Correct</span>"
      ],
      "text/plain": [
       "Correct"
      ]
     },
     "metadata": {},
     "output_type": "display_data"
    }
   ],
   "source": [
    "# Fill in the line below: How many rows are in the training data?\n",
    "num_rows = 1168\n",
    "\n",
    "# Fill in the line below: How many columns in the training data\n",
    "# have missing values?\n",
    "num_cols_with_missing = 3\n",
    "\n",
    "# Fill in the line below: How many missing entries are contained in \n",
    "# all of the training data?\n",
    "tot_missing = 276\n",
    "\n",
    "# Check your answers\n",
    "step_1.a.check()"
   ]
  },
  {
   "cell_type": "code",
   "execution_count": 6,
   "id": "c122841d",
   "metadata": {
    "execution": {
     "iopub.execute_input": "2022-08-19T04:01:49.488049Z",
     "iopub.status.busy": "2022-08-19T04:01:49.487178Z",
     "iopub.status.idle": "2022-08-19T04:01:49.491999Z",
     "shell.execute_reply": "2022-08-19T04:01:49.491029Z"
    },
    "papermill": {
     "duration": 0.018089,
     "end_time": "2022-08-19T04:01:49.494251",
     "exception": false,
     "start_time": "2022-08-19T04:01:49.476162",
     "status": "completed"
    },
    "tags": []
   },
   "outputs": [],
   "source": [
    "# Lines below will give you a hint or solution code\n",
    "#step_1.a.hint()\n",
    "#step_1.a.solution()"
   ]
  },
  {
   "cell_type": "markdown",
   "id": "5363b03f",
   "metadata": {
    "papermill": {
     "duration": 0.00902,
     "end_time": "2022-08-19T04:01:49.512712",
     "exception": false,
     "start_time": "2022-08-19T04:01:49.503692",
     "status": "completed"
    },
    "tags": []
   },
   "source": [
    "### Part B\n",
    "Considering your answers above, what do you think is likely the best approach to dealing with the missing values?"
   ]
  },
  {
   "cell_type": "code",
   "execution_count": 7,
   "id": "aa9fe7a6",
   "metadata": {
    "execution": {
     "iopub.execute_input": "2022-08-19T04:01:49.533592Z",
     "iopub.status.busy": "2022-08-19T04:01:49.532747Z",
     "iopub.status.idle": "2022-08-19T04:01:49.541858Z",
     "shell.execute_reply": "2022-08-19T04:01:49.540743Z"
    },
    "papermill": {
     "duration": 0.022102,
     "end_time": "2022-08-19T04:01:49.544252",
     "exception": false,
     "start_time": "2022-08-19T04:01:49.522150",
     "status": "completed"
    },
    "tags": []
   },
   "outputs": [
    {
     "data": {
      "application/javascript": [
       "parent.postMessage({\"jupyterEvent\": \"custom.exercise_interaction\", \"data\": {\"outcomeType\": 1, \"valueTowardsCompletion\": 1.0, \"interactionType\": 1, \"questionType\": 4, \"questionId\": \"1.2_InvestigateThought\", \"learnToolsVersion\": \"0.3.4\", \"failureMessage\": \"\", \"exceptionClass\": \"\", \"trace\": \"\"}}, \"*\")"
      ],
      "text/plain": [
       "<IPython.core.display.Javascript object>"
      ]
     },
     "metadata": {},
     "output_type": "display_data"
    },
    {
     "data": {
      "text/markdown": [
       "<span style=\"color:#33cc33\">Correct:</span> \n",
       "\n",
       "Since there are relatively few missing entries in the data (the column with the greatest percentage of missing values is missing less than 20% of its entries), we can expect that dropping columns is unlikely to yield good results.  This is because we'd be throwing away a lot of valuable data, and so imputation will likely perform better."
      ],
      "text/plain": [
       "Correct: \n",
       "\n",
       "Since there are relatively few missing entries in the data (the column with the greatest percentage of missing values is missing less than 20% of its entries), we can expect that dropping columns is unlikely to yield good results.  This is because we'd be throwing away a lot of valuable data, and so imputation will likely perform better."
      ]
     },
     "metadata": {},
     "output_type": "display_data"
    }
   ],
   "source": [
    "# Check your answer (Run this code cell to receive credit!)\n",
    "step_1.b.check()"
   ]
  },
  {
   "cell_type": "code",
   "execution_count": 8,
   "id": "01d5aede",
   "metadata": {
    "execution": {
     "iopub.execute_input": "2022-08-19T04:01:49.565735Z",
     "iopub.status.busy": "2022-08-19T04:01:49.565307Z",
     "iopub.status.idle": "2022-08-19T04:01:49.569874Z",
     "shell.execute_reply": "2022-08-19T04:01:49.568675Z"
    },
    "papermill": {
     "duration": 0.018076,
     "end_time": "2022-08-19T04:01:49.572255",
     "exception": false,
     "start_time": "2022-08-19T04:01:49.554179",
     "status": "completed"
    },
    "tags": []
   },
   "outputs": [],
   "source": [
    "#step_1.b.hint()"
   ]
  },
  {
   "cell_type": "markdown",
   "id": "adbe250f",
   "metadata": {
    "papermill": {
     "duration": 0.009254,
     "end_time": "2022-08-19T04:01:49.591367",
     "exception": false,
     "start_time": "2022-08-19T04:01:49.582113",
     "status": "completed"
    },
    "tags": []
   },
   "source": [
    "To compare different approaches to dealing with missing values, you'll use the same `score_dataset()` function from the tutorial.  This function reports the [mean absolute error](https://en.wikipedia.org/wiki/Mean_absolute_error) (MAE) from a random forest model."
   ]
  },
  {
   "cell_type": "code",
   "execution_count": 9,
   "id": "79548893",
   "metadata": {
    "execution": {
     "iopub.execute_input": "2022-08-19T04:01:49.612910Z",
     "iopub.status.busy": "2022-08-19T04:01:49.612483Z",
     "iopub.status.idle": "2022-08-19T04:01:49.846350Z",
     "shell.execute_reply": "2022-08-19T04:01:49.845149Z"
    },
    "papermill": {
     "duration": 0.247267,
     "end_time": "2022-08-19T04:01:49.848785",
     "exception": false,
     "start_time": "2022-08-19T04:01:49.601518",
     "status": "completed"
    },
    "tags": []
   },
   "outputs": [],
   "source": [
    "from sklearn.ensemble import RandomForestRegressor\n",
    "from sklearn.metrics import mean_absolute_error\n",
    "\n",
    "# Function for comparing different approaches\n",
    "def score_dataset(X_train, X_valid, y_train, y_valid):\n",
    "    model = RandomForestRegressor(n_estimators=100, random_state=0)\n",
    "    model.fit(X_train, y_train)\n",
    "    preds = model.predict(X_valid)\n",
    "    return mean_absolute_error(y_valid, preds)"
   ]
  },
  {
   "cell_type": "markdown",
   "id": "d283c4d5",
   "metadata": {
    "papermill": {
     "duration": 0.009288,
     "end_time": "2022-08-19T04:01:49.868352",
     "exception": false,
     "start_time": "2022-08-19T04:01:49.859064",
     "status": "completed"
    },
    "tags": []
   },
   "source": [
    "# Step 2: Drop columns with missing values\n",
    "\n",
    "In this step, you'll preprocess the data in `X_train` and `X_valid` to remove columns with missing values.  Set the preprocessed DataFrames to `reduced_X_train` and `reduced_X_valid`, respectively.  "
   ]
  },
  {
   "cell_type": "code",
   "execution_count": 10,
   "id": "a1cf59c6",
   "metadata": {
    "execution": {
     "iopub.execute_input": "2022-08-19T04:01:49.889780Z",
     "iopub.status.busy": "2022-08-19T04:01:49.889044Z",
     "iopub.status.idle": "2022-08-19T04:01:49.917547Z",
     "shell.execute_reply": "2022-08-19T04:01:49.916684Z"
    },
    "papermill": {
     "duration": 0.041719,
     "end_time": "2022-08-19T04:01:49.919693",
     "exception": false,
     "start_time": "2022-08-19T04:01:49.877974",
     "status": "completed"
    },
    "tags": []
   },
   "outputs": [
    {
     "data": {
      "application/javascript": [
       "parent.postMessage({\"jupyterEvent\": \"custom.exercise_interaction\", \"data\": {\"outcomeType\": 1, \"valueTowardsCompletion\": 1.0, \"interactionType\": 1, \"questionType\": 2, \"questionId\": \"2_DropMissing\", \"learnToolsVersion\": \"0.3.4\", \"failureMessage\": \"\", \"exceptionClass\": \"\", \"trace\": \"\"}}, \"*\")"
      ],
      "text/plain": [
       "<IPython.core.display.Javascript object>"
      ]
     },
     "metadata": {},
     "output_type": "display_data"
    },
    {
     "data": {
      "text/markdown": [
       "<span style=\"color:#33cc33\">Correct</span>"
      ],
      "text/plain": [
       "Correct"
      ]
     },
     "metadata": {},
     "output_type": "display_data"
    }
   ],
   "source": [
    "# Fill in the line below: get names of columns with missing values\n",
    "missing = [col for col in X_train.columns\n",
    "          if X_train[col].isnull().any()] # Your code here\n",
    "\n",
    "# Fill in the lines below: drop columns in training and validation data\n",
    "reduced_X_train = X_train.drop(missing, axis = 1)\n",
    "reduced_X_valid = X_valid.drop(missing, axis = 1)\n",
    "\n",
    "# Check your answers\n",
    "step_2.check()"
   ]
  },
  {
   "cell_type": "code",
   "execution_count": 11,
   "id": "babc41bc",
   "metadata": {
    "execution": {
     "iopub.execute_input": "2022-08-19T04:01:49.942397Z",
     "iopub.status.busy": "2022-08-19T04:01:49.941627Z",
     "iopub.status.idle": "2022-08-19T04:01:49.946132Z",
     "shell.execute_reply": "2022-08-19T04:01:49.945168Z"
    },
    "papermill": {
     "duration": 0.01879,
     "end_time": "2022-08-19T04:01:49.948961",
     "exception": false,
     "start_time": "2022-08-19T04:01:49.930171",
     "status": "completed"
    },
    "tags": []
   },
   "outputs": [],
   "source": [
    "# Lines below will give you a hint or solution code\n",
    "#step_2.hint()\n",
    "#step_2.solution()"
   ]
  },
  {
   "cell_type": "markdown",
   "id": "f4b095b3",
   "metadata": {
    "papermill": {
     "duration": 0.009671,
     "end_time": "2022-08-19T04:01:49.970890",
     "exception": false,
     "start_time": "2022-08-19T04:01:49.961219",
     "status": "completed"
    },
    "tags": []
   },
   "source": [
    "Run the next code cell without changes to obtain the MAE for this approach."
   ]
  },
  {
   "cell_type": "code",
   "execution_count": 12,
   "id": "1c76c4f8",
   "metadata": {
    "execution": {
     "iopub.execute_input": "2022-08-19T04:01:49.992676Z",
     "iopub.status.busy": "2022-08-19T04:01:49.992286Z",
     "iopub.status.idle": "2022-08-19T04:01:51.120196Z",
     "shell.execute_reply": "2022-08-19T04:01:51.118650Z"
    },
    "papermill": {
     "duration": 1.142025,
     "end_time": "2022-08-19T04:01:51.122923",
     "exception": false,
     "start_time": "2022-08-19T04:01:49.980898",
     "status": "completed"
    },
    "tags": []
   },
   "outputs": [
    {
     "name": "stdout",
     "output_type": "stream",
     "text": [
      "MAE (Drop columns with missing values):\n",
      "17837.82570776256\n"
     ]
    }
   ],
   "source": [
    "print(\"MAE (Drop columns with missing values):\")\n",
    "print(score_dataset(reduced_X_train, reduced_X_valid, y_train, y_valid))"
   ]
  },
  {
   "cell_type": "markdown",
   "id": "44687406",
   "metadata": {
    "papermill": {
     "duration": 0.009851,
     "end_time": "2022-08-19T04:01:51.143162",
     "exception": false,
     "start_time": "2022-08-19T04:01:51.133311",
     "status": "completed"
    },
    "tags": []
   },
   "source": [
    "# Step 3: Imputation\n",
    "\n",
    "### Part A\n",
    "\n",
    "Use the next code cell to impute missing values with the mean value along each column.  Set the preprocessed DataFrames to `imputed_X_train` and `imputed_X_valid`.  Make sure that the column names match those in `X_train` and `X_valid`."
   ]
  },
  {
   "cell_type": "code",
   "execution_count": 13,
   "id": "5720b493",
   "metadata": {
    "execution": {
     "iopub.execute_input": "2022-08-19T04:01:51.165843Z",
     "iopub.status.busy": "2022-08-19T04:01:51.164719Z",
     "iopub.status.idle": "2022-08-19T04:01:51.201720Z",
     "shell.execute_reply": "2022-08-19T04:01:51.200494Z"
    },
    "papermill": {
     "duration": 0.050886,
     "end_time": "2022-08-19T04:01:51.204294",
     "exception": false,
     "start_time": "2022-08-19T04:01:51.153408",
     "status": "completed"
    },
    "tags": []
   },
   "outputs": [
    {
     "data": {
      "application/javascript": [
       "parent.postMessage({\"jupyterEvent\": \"custom.exercise_interaction\", \"data\": {\"outcomeType\": 1, \"valueTowardsCompletion\": 1.0, \"interactionType\": 1, \"questionType\": 2, \"questionId\": \"3.1_ImputeCode\", \"learnToolsVersion\": \"0.3.4\", \"failureMessage\": \"\", \"exceptionClass\": \"\", \"trace\": \"\"}}, \"*\")"
      ],
      "text/plain": [
       "<IPython.core.display.Javascript object>"
      ]
     },
     "metadata": {},
     "output_type": "display_data"
    },
    {
     "data": {
      "text/markdown": [
       "<span style=\"color:#33cc33\">Correct</span>"
      ],
      "text/plain": [
       "Correct"
      ]
     },
     "metadata": {},
     "output_type": "display_data"
    }
   ],
   "source": [
    "from sklearn.impute import SimpleImputer\n",
    "\n",
    "# Fill in the lines below: imputation\n",
    "# Your code here\n",
    "imputer = SimpleImputer()\n",
    "imputed_X_train = pd.DataFrame(imputer.fit_transform(X_train))\n",
    "imputed_X_valid = pd.DataFrame(imputer.transform(X_valid))\n",
    "\n",
    "# Fill in the lines below: imputation removed column names; put them back\n",
    "imputed_X_train.columns = X_train.columns\n",
    "imputed_X_valid.columns = X_valid.columns\n",
    "\n",
    "# Check your answers\n",
    "step_3.a.check()"
   ]
  },
  {
   "cell_type": "code",
   "execution_count": 14,
   "id": "5bf5035d",
   "metadata": {
    "execution": {
     "iopub.execute_input": "2022-08-19T04:01:51.226504Z",
     "iopub.status.busy": "2022-08-19T04:01:51.226085Z",
     "iopub.status.idle": "2022-08-19T04:01:51.231039Z",
     "shell.execute_reply": "2022-08-19T04:01:51.229853Z"
    },
    "papermill": {
     "duration": 0.018704,
     "end_time": "2022-08-19T04:01:51.233292",
     "exception": false,
     "start_time": "2022-08-19T04:01:51.214588",
     "status": "completed"
    },
    "tags": []
   },
   "outputs": [],
   "source": [
    "# Lines below will give you a hint or solution code\n",
    "#step_3.a.hint()\n",
    "#step_3.a.solution()"
   ]
  },
  {
   "cell_type": "markdown",
   "id": "b9b82911",
   "metadata": {
    "papermill": {
     "duration": 0.010043,
     "end_time": "2022-08-19T04:01:51.253966",
     "exception": false,
     "start_time": "2022-08-19T04:01:51.243923",
     "status": "completed"
    },
    "tags": []
   },
   "source": [
    "Run the next code cell without changes to obtain the MAE for this approach."
   ]
  },
  {
   "cell_type": "code",
   "execution_count": 15,
   "id": "110390b0",
   "metadata": {
    "execution": {
     "iopub.execute_input": "2022-08-19T04:01:51.276902Z",
     "iopub.status.busy": "2022-08-19T04:01:51.276095Z",
     "iopub.status.idle": "2022-08-19T04:01:52.497228Z",
     "shell.execute_reply": "2022-08-19T04:01:52.495854Z"
    },
    "papermill": {
     "duration": 1.236253,
     "end_time": "2022-08-19T04:01:52.500583",
     "exception": false,
     "start_time": "2022-08-19T04:01:51.264330",
     "status": "completed"
    },
    "tags": []
   },
   "outputs": [
    {
     "name": "stdout",
     "output_type": "stream",
     "text": [
      "MAE (Imputation):\n",
      "18062.894611872147\n"
     ]
    }
   ],
   "source": [
    "print(\"MAE (Imputation):\")\n",
    "print(score_dataset(imputed_X_train, imputed_X_valid, y_train, y_valid))"
   ]
  },
  {
   "cell_type": "markdown",
   "id": "9cb1c47b",
   "metadata": {
    "papermill": {
     "duration": 0.010305,
     "end_time": "2022-08-19T04:01:52.521832",
     "exception": false,
     "start_time": "2022-08-19T04:01:52.511527",
     "status": "completed"
    },
    "tags": []
   },
   "source": [
    "### Part B\n",
    "\n",
    "Compare the MAE from each approach.  Does anything surprise you about the results?  Why do you think one approach performed better than the other?"
   ]
  },
  {
   "cell_type": "code",
   "execution_count": 16,
   "id": "08be9afb",
   "metadata": {
    "execution": {
     "iopub.execute_input": "2022-08-19T04:01:52.545975Z",
     "iopub.status.busy": "2022-08-19T04:01:52.545154Z",
     "iopub.status.idle": "2022-08-19T04:01:52.554404Z",
     "shell.execute_reply": "2022-08-19T04:01:52.553519Z"
    },
    "papermill": {
     "duration": 0.023721,
     "end_time": "2022-08-19T04:01:52.556585",
     "exception": false,
     "start_time": "2022-08-19T04:01:52.532864",
     "status": "completed"
    },
    "tags": []
   },
   "outputs": [
    {
     "data": {
      "application/javascript": [
       "parent.postMessage({\"jupyterEvent\": \"custom.exercise_interaction\", \"data\": {\"outcomeType\": 1, \"valueTowardsCompletion\": 1.0, \"interactionType\": 1, \"questionType\": 4, \"questionId\": \"3.2_ImputeThought\", \"learnToolsVersion\": \"0.3.4\", \"failureMessage\": \"\", \"exceptionClass\": \"\", \"trace\": \"\"}}, \"*\")"
      ],
      "text/plain": [
       "<IPython.core.display.Javascript object>"
      ]
     },
     "metadata": {},
     "output_type": "display_data"
    },
    {
     "data": {
      "text/markdown": [
       "<span style=\"color:#33cc33\">Correct:</span> \n",
       "\n",
       "Given that thre are so few missing values in the dataset, we'd expect imputation to perform better than dropping columns entirely.  However, we see that dropping columns performs slightly better!  While this can probably partially be attributed to noise in the dataset, another potential explanation is that the imputation method is not a great match to this dataset.  That is, maybe instead of filling in the mean value, it makes more sense to set every missing value to a value of 0, to fill in the most frequently encountered value, or to use some other method.  For instance, consider the `GarageYrBlt` column (which indicates the year that the garage was built).  It's likely that in some cases, a missing value could indicate a house that does not have a garage.  Does it make more sense to fill in the median value along each column in this case?  Or could we get better results by filling in the minimum value along each column?  It's not quite clear what's best in this case, but perhaps we can rule out some options immediately - for instance, setting missing values in this column to 0 is likely to yield horrible results!"
      ],
      "text/plain": [
       "Correct: \n",
       "\n",
       "Given that thre are so few missing values in the dataset, we'd expect imputation to perform better than dropping columns entirely.  However, we see that dropping columns performs slightly better!  While this can probably partially be attributed to noise in the dataset, another potential explanation is that the imputation method is not a great match to this dataset.  That is, maybe instead of filling in the mean value, it makes more sense to set every missing value to a value of 0, to fill in the most frequently encountered value, or to use some other method.  For instance, consider the `GarageYrBlt` column (which indicates the year that the garage was built).  It's likely that in some cases, a missing value could indicate a house that does not have a garage.  Does it make more sense to fill in the median value along each column in this case?  Or could we get better results by filling in the minimum value along each column?  It's not quite clear what's best in this case, but perhaps we can rule out some options immediately - for instance, setting missing values in this column to 0 is likely to yield horrible results!"
      ]
     },
     "metadata": {},
     "output_type": "display_data"
    }
   ],
   "source": [
    "# Check your answer (Run this code cell to receive credit!)\n",
    "step_3.b.check()"
   ]
  },
  {
   "cell_type": "code",
   "execution_count": 17,
   "id": "02a02fdb",
   "metadata": {
    "execution": {
     "iopub.execute_input": "2022-08-19T04:01:52.580057Z",
     "iopub.status.busy": "2022-08-19T04:01:52.579645Z",
     "iopub.status.idle": "2022-08-19T04:01:52.584116Z",
     "shell.execute_reply": "2022-08-19T04:01:52.583279Z"
    },
    "papermill": {
     "duration": 0.018895,
     "end_time": "2022-08-19T04:01:52.586324",
     "exception": false,
     "start_time": "2022-08-19T04:01:52.567429",
     "status": "completed"
    },
    "tags": []
   },
   "outputs": [],
   "source": [
    "#step_3.b.hint()"
   ]
  },
  {
   "cell_type": "markdown",
   "id": "6ad4e32c",
   "metadata": {
    "papermill": {
     "duration": 0.010667,
     "end_time": "2022-08-19T04:01:52.609137",
     "exception": false,
     "start_time": "2022-08-19T04:01:52.598470",
     "status": "completed"
    },
    "tags": []
   },
   "source": [
    "# Step 4: Generate test predictions\n",
    "\n",
    "In this final step, you'll use any approach of your choosing to deal with missing values.  Once you've preprocessed the training and validation features, you'll train and evaluate a random forest model.  Then, you'll preprocess the test data before generating predictions that can be submitted to the competition!\n",
    "\n",
    "### Part A\n",
    "\n",
    "Use the next code cell to preprocess the training and validation data.  Set the preprocessed DataFrames to `final_X_train` and `final_X_valid`.  **You can use any approach of your choosing here!**  in order for this step to be marked as correct, you need only ensure:\n",
    "- the preprocessed DataFrames have the same number of columns,\n",
    "- the preprocessed DataFrames have no missing values, \n",
    "- `final_X_train` and `y_train` have the same number of rows, and\n",
    "- `final_X_valid` and `y_valid` have the same number of rows."
   ]
  },
  {
   "cell_type": "code",
   "execution_count": 18,
   "id": "1455a1a9",
   "metadata": {
    "execution": {
     "iopub.execute_input": "2022-08-19T04:01:52.633963Z",
     "iopub.status.busy": "2022-08-19T04:01:52.633135Z",
     "iopub.status.idle": "2022-08-19T04:01:52.660887Z",
     "shell.execute_reply": "2022-08-19T04:01:52.659579Z"
    },
    "papermill": {
     "duration": 0.042477,
     "end_time": "2022-08-19T04:01:52.663209",
     "exception": false,
     "start_time": "2022-08-19T04:01:52.620732",
     "status": "completed"
    },
    "tags": []
   },
   "outputs": [
    {
     "data": {
      "application/javascript": [
       "parent.postMessage({\"jupyterEvent\": \"custom.exercise_interaction\", \"data\": {\"outcomeType\": 1, \"valueTowardsCompletion\": 1.0, \"interactionType\": 1, \"questionType\": 2, \"questionId\": \"4.1_PredsCodeA\", \"learnToolsVersion\": \"0.3.4\", \"failureMessage\": \"\", \"exceptionClass\": \"\", \"trace\": \"\"}}, \"*\")"
      ],
      "text/plain": [
       "<IPython.core.display.Javascript object>"
      ]
     },
     "metadata": {},
     "output_type": "display_data"
    },
    {
     "data": {
      "text/markdown": [
       "<span style=\"color:#33cc33\">Correct</span>"
      ],
      "text/plain": [
       "Correct"
      ]
     },
     "metadata": {},
     "output_type": "display_data"
    }
   ],
   "source": [
    "# Preprocessed training and validation features\n",
    "final_X_train = pd.DataFrame(imputer.transform(X_train))\n",
    "final_X_valid = pd.DataFrame(imputer.transform(X_valid))\n",
    "\n",
    "# Check your answers\n",
    "step_4.a.check()"
   ]
  },
  {
   "cell_type": "code",
   "execution_count": 19,
   "id": "77776f69",
   "metadata": {
    "execution": {
     "iopub.execute_input": "2022-08-19T04:01:52.688107Z",
     "iopub.status.busy": "2022-08-19T04:01:52.687445Z",
     "iopub.status.idle": "2022-08-19T04:01:52.691920Z",
     "shell.execute_reply": "2022-08-19T04:01:52.690822Z"
    },
    "papermill": {
     "duration": 0.019987,
     "end_time": "2022-08-19T04:01:52.694411",
     "exception": false,
     "start_time": "2022-08-19T04:01:52.674424",
     "status": "completed"
    },
    "tags": []
   },
   "outputs": [],
   "source": [
    "# Lines below will give you a hint or solution code\n",
    "#step_4.a.hint()\n",
    "#step_4.a.solution()"
   ]
  },
  {
   "cell_type": "markdown",
   "id": "e26ff2ab",
   "metadata": {
    "papermill": {
     "duration": 0.010842,
     "end_time": "2022-08-19T04:01:52.716492",
     "exception": false,
     "start_time": "2022-08-19T04:01:52.705650",
     "status": "completed"
    },
    "tags": []
   },
   "source": [
    "Run the next code cell to train and evaluate a random forest model.  (*Note that we don't use the `score_dataset()` function above, because we will soon use the trained model to generate test predictions!*)"
   ]
  },
  {
   "cell_type": "code",
   "execution_count": 20,
   "id": "bb77a5df",
   "metadata": {
    "execution": {
     "iopub.execute_input": "2022-08-19T04:01:52.740995Z",
     "iopub.status.busy": "2022-08-19T04:01:52.739897Z",
     "iopub.status.idle": "2022-08-19T04:01:53.945783Z",
     "shell.execute_reply": "2022-08-19T04:01:53.944395Z"
    },
    "papermill": {
     "duration": 1.221472,
     "end_time": "2022-08-19T04:01:53.949070",
     "exception": false,
     "start_time": "2022-08-19T04:01:52.727598",
     "status": "completed"
    },
    "tags": []
   },
   "outputs": [
    {
     "name": "stdout",
     "output_type": "stream",
     "text": [
      "MAE (Your approach):\n",
      "18062.894611872147\n"
     ]
    }
   ],
   "source": [
    "# Define and fit model\n",
    "model = RandomForestRegressor(n_estimators=100, random_state=0)\n",
    "model.fit(final_X_train, y_train)\n",
    "\n",
    "# Get validation predictions and MAE\n",
    "preds_valid = model.predict(final_X_valid)\n",
    "print(\"MAE (Your approach):\")\n",
    "print(mean_absolute_error(y_valid, preds_valid))"
   ]
  },
  {
   "cell_type": "markdown",
   "id": "82092424",
   "metadata": {
    "papermill": {
     "duration": 0.010851,
     "end_time": "2022-08-19T04:01:53.971273",
     "exception": false,
     "start_time": "2022-08-19T04:01:53.960422",
     "status": "completed"
    },
    "tags": []
   },
   "source": [
    "### Part B\n",
    "\n",
    "Use the next code cell to preprocess your test data.  Make sure that you use a method that agrees with how you preprocessed the training and validation data, and set the preprocessed test features to `final_X_test`.\n",
    "\n",
    "Then, use the preprocessed test features and the trained model to generate test predictions in `preds_test`.\n",
    "\n",
    "In order for this step to be marked correct, you need only ensure:\n",
    "- the preprocessed test DataFrame has no missing values, and\n",
    "- `final_X_test` has the same number of rows as `X_test`."
   ]
  },
  {
   "cell_type": "code",
   "execution_count": 21,
   "id": "6e634e18",
   "metadata": {
    "execution": {
     "iopub.execute_input": "2022-08-19T04:01:53.995944Z",
     "iopub.status.busy": "2022-08-19T04:01:53.995277Z",
     "iopub.status.idle": "2022-08-19T04:01:54.050130Z",
     "shell.execute_reply": "2022-08-19T04:01:54.048256Z"
    },
    "papermill": {
     "duration": 0.070066,
     "end_time": "2022-08-19T04:01:54.052538",
     "exception": false,
     "start_time": "2022-08-19T04:01:53.982472",
     "status": "completed"
    },
    "tags": []
   },
   "outputs": [
    {
     "data": {
      "application/javascript": [
       "parent.postMessage({\"jupyterEvent\": \"custom.exercise_interaction\", \"data\": {\"outcomeType\": 1, \"valueTowardsCompletion\": 1.0, \"interactionType\": 1, \"questionType\": 2, \"questionId\": \"4.2_PredsCodeB\", \"learnToolsVersion\": \"0.3.4\", \"failureMessage\": \"\", \"exceptionClass\": \"\", \"trace\": \"\"}}, \"*\")"
      ],
      "text/plain": [
       "<IPython.core.display.Javascript object>"
      ]
     },
     "metadata": {},
     "output_type": "display_data"
    },
    {
     "data": {
      "text/markdown": [
       "<span style=\"color:#33cc33\">Correct</span>"
      ],
      "text/plain": [
       "Correct"
      ]
     },
     "metadata": {},
     "output_type": "display_data"
    }
   ],
   "source": [
    "# Fill in the line below: preprocess test data\n",
    "final_X_test = pd.DataFrame(imputer.transform(X_test))\n",
    "\n",
    "# Fill in the line below: get test predictions\n",
    "preds_test = model.predict(final_X_test)\n",
    "\n",
    "# Check your answers\n",
    "step_4.b.check()"
   ]
  },
  {
   "cell_type": "code",
   "execution_count": 22,
   "id": "4365eedc",
   "metadata": {
    "execution": {
     "iopub.execute_input": "2022-08-19T04:01:54.078366Z",
     "iopub.status.busy": "2022-08-19T04:01:54.077199Z",
     "iopub.status.idle": "2022-08-19T04:01:54.082346Z",
     "shell.execute_reply": "2022-08-19T04:01:54.081469Z"
    },
    "papermill": {
     "duration": 0.01984,
     "end_time": "2022-08-19T04:01:54.084459",
     "exception": false,
     "start_time": "2022-08-19T04:01:54.064619",
     "status": "completed"
    },
    "tags": []
   },
   "outputs": [],
   "source": [
    "# Lines below will give you a hint or solution code\n",
    "# step_4.b.hint()\n",
    "# step_4.b.solution()"
   ]
  },
  {
   "cell_type": "markdown",
   "id": "3463fdc1",
   "metadata": {
    "papermill": {
     "duration": 0.011594,
     "end_time": "2022-08-19T04:01:54.107371",
     "exception": false,
     "start_time": "2022-08-19T04:01:54.095777",
     "status": "completed"
    },
    "tags": []
   },
   "source": [
    "Run the next code cell without changes to save your results to a CSV file that can be submitted directly to the competition."
   ]
  },
  {
   "cell_type": "code",
   "execution_count": 23,
   "id": "91beceae",
   "metadata": {
    "execution": {
     "iopub.execute_input": "2022-08-19T04:01:54.132403Z",
     "iopub.status.busy": "2022-08-19T04:01:54.131306Z",
     "iopub.status.idle": "2022-08-19T04:01:54.142950Z",
     "shell.execute_reply": "2022-08-19T04:01:54.141984Z"
    },
    "papermill": {
     "duration": 0.026439,
     "end_time": "2022-08-19T04:01:54.145251",
     "exception": false,
     "start_time": "2022-08-19T04:01:54.118812",
     "status": "completed"
    },
    "tags": []
   },
   "outputs": [],
   "source": [
    "# Save test predictions to file\n",
    "output = pd.DataFrame({'Id': X_test.index,\n",
    "                       'SalePrice': preds_test})\n",
    "output.to_csv('submission.csv', index=False)"
   ]
  },
  {
   "cell_type": "markdown",
   "id": "c4285e97",
   "metadata": {
    "papermill": {
     "duration": 0.010808,
     "end_time": "2022-08-19T04:01:54.167372",
     "exception": false,
     "start_time": "2022-08-19T04:01:54.156564",
     "status": "completed"
    },
    "tags": []
   },
   "source": [
    "# Submit your results\n",
    "\n",
    "Once you have successfully completed Step 4, you're ready to submit your results to the leaderboard!  (_You also learned how to do this in the previous exercise.  If you need a reminder of how to do this, please use the instructions below._)  \n",
    "\n",
    "First, you'll need to join the competition if you haven't already.  So open a new window by clicking on [this link](https://www.kaggle.com/c/home-data-for-ml-course).  Then click on the **Join Competition** button.\n",
    "\n",
    "![join competition image](https://i.imgur.com/wLmFtH3.png)\n",
    "\n",
    "Next, follow the instructions below:\n",
    "1. Begin by clicking on the **Save Version** button in the top right corner of the window.  This will generate a pop-up window.  \n",
    "2. Ensure that the **Save and Run All** option is selected, and then click on the **Save** button.\n",
    "3. This generates a window in the bottom left corner of the notebook.  After it has finished running, click on the number to the right of the **Save Version** button.  This pulls up a list of versions on the right of the screen.  Click on the ellipsis **(...)** to the right of the most recent version, and select **Open in Viewer**.  This brings you into view mode of the same page. You will need to scroll down to get back to these instructions.\n",
    "4. Click on the **Output** tab on the right of the screen.  Then, click on the file you would like to submit, and click on the **Submit** button to submit your results to the leaderboard.\n",
    "\n",
    "You have now successfully submitted to the competition!\n",
    "\n",
    "If you want to keep working to improve your performance, select the **Edit** button in the top right of the screen. Then you can change your code and repeat the process. There's a lot of room to improve, and you will climb up the leaderboard as you work.\n",
    "\n",
    "\n",
    "# Keep going\n",
    "\n",
    "Move on to learn what **[categorical variables](https://www.kaggle.com/alexisbcook/categorical-variables)** are, along with how to incorporate them into your machine learning models.  Categorical variables are very common in real-world data, but you'll get an error if you try to plug them into your models without processing them first!"
   ]
  },
  {
   "cell_type": "markdown",
   "id": "0b2f607f",
   "metadata": {
    "papermill": {
     "duration": 0.01079,
     "end_time": "2022-08-19T04:01:54.189317",
     "exception": false,
     "start_time": "2022-08-19T04:01:54.178527",
     "status": "completed"
    },
    "tags": []
   },
   "source": [
    "---\n",
    "\n",
    "\n",
    "\n",
    "\n",
    "*Have questions or comments? Visit the [course discussion forum](https://www.kaggle.com/learn/intermediate-machine-learning/discussion) to chat with other learners.*"
   ]
  }
 ],
 "metadata": {
  "kernelspec": {
   "display_name": "Python 3",
   "language": "python",
   "name": "python3"
  },
  "language_info": {
   "codemirror_mode": {
    "name": "ipython",
    "version": 3
   },
   "file_extension": ".py",
   "mimetype": "text/x-python",
   "name": "python",
   "nbconvert_exporter": "python",
   "pygments_lexer": "ipython3",
   "version": "3.7.12"
  },
  "papermill": {
   "default_parameters": {},
   "duration": 16.026695,
   "end_time": "2022-08-19T04:01:54.922047",
   "environment_variables": {},
   "exception": null,
   "input_path": "__notebook__.ipynb",
   "output_path": "__notebook__.ipynb",
   "parameters": {},
   "start_time": "2022-08-19T04:01:38.895352",
   "version": "2.3.4"
  }
 },
 "nbformat": 4,
 "nbformat_minor": 5
}
