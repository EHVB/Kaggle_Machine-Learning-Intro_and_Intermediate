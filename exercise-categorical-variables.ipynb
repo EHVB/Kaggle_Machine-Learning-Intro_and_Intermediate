{
 "cells": [
  {
   "cell_type": "markdown",
   "id": "9f03e5d7",
   "metadata": {
    "papermill": {
     "duration": 0.011146,
     "end_time": "2022-08-22T04:45:12.106972",
     "exception": false,
     "start_time": "2022-08-22T04:45:12.095826",
     "status": "completed"
    },
    "tags": []
   },
   "source": [
    "**This notebook is an exercise in the [Intermediate Machine Learning](https://www.kaggle.com/learn/intermediate-machine-learning) course.  You can reference the tutorial at [this link](https://www.kaggle.com/alexisbcook/categorical-variables).**\n",
    "\n",
    "---\n"
   ]
  },
  {
   "cell_type": "markdown",
   "id": "2fe836fe",
   "metadata": {
    "papermill": {
     "duration": 0.009031,
     "end_time": "2022-08-22T04:45:12.125489",
     "exception": false,
     "start_time": "2022-08-22T04:45:12.116458",
     "status": "completed"
    },
    "tags": []
   },
   "source": [
    "By encoding **categorical variables**, you'll obtain your best results thus far!\n",
    "\n",
    "# Setup\n",
    "\n",
    "The questions below will give you feedback on your work. Run the following cell to set up the feedback system."
   ]
  },
  {
   "cell_type": "code",
   "execution_count": 1,
   "id": "cf2f9aea",
   "metadata": {
    "execution": {
     "iopub.execute_input": "2022-08-22T04:45:12.146859Z",
     "iopub.status.busy": "2022-08-22T04:45:12.145509Z",
     "iopub.status.idle": "2022-08-22T04:45:12.209341Z",
     "shell.execute_reply": "2022-08-22T04:45:12.208152Z"
    },
    "papermill": {
     "duration": 0.07718,
     "end_time": "2022-08-22T04:45:12.212042",
     "exception": false,
     "start_time": "2022-08-22T04:45:12.134862",
     "status": "completed"
    },
    "tags": []
   },
   "outputs": [
    {
     "name": "stdout",
     "output_type": "stream",
     "text": [
      "Setup Complete\n"
     ]
    }
   ],
   "source": [
    "# Set up code checking\n",
    "import os\n",
    "if not os.path.exists(\"../input/train.csv\"):\n",
    "    os.symlink(\"../input/home-data-for-ml-course/train.csv\", \"../input/train.csv\")  \n",
    "    os.symlink(\"../input/home-data-for-ml-course/test.csv\", \"../input/test.csv\") \n",
    "from learntools.core import binder\n",
    "binder.bind(globals())\n",
    "from learntools.ml_intermediate.ex3 import *\n",
    "print(\"Setup Complete\")"
   ]
  },
  {
   "cell_type": "markdown",
   "id": "6fe0504d",
   "metadata": {
    "papermill": {
     "duration": 0.009099,
     "end_time": "2022-08-22T04:45:12.230744",
     "exception": false,
     "start_time": "2022-08-22T04:45:12.221645",
     "status": "completed"
    },
    "tags": []
   },
   "source": [
    "In this exercise, you will work with data from the [Housing Prices Competition for Kaggle Learn Users](https://www.kaggle.com/c/home-data-for-ml-course). \n",
    "\n",
    "![Ames Housing dataset image](https://i.imgur.com/lTJVG4e.png)\n",
    "\n",
    "Run the next code cell without changes to load the training and validation sets in `X_train`, `X_valid`, `y_train`, and `y_valid`.  The test set is loaded in `X_test`."
   ]
  },
  {
   "cell_type": "code",
   "execution_count": 2,
   "id": "58034ab0",
   "metadata": {
    "execution": {
     "iopub.execute_input": "2022-08-22T04:45:12.252830Z",
     "iopub.status.busy": "2022-08-22T04:45:12.252358Z",
     "iopub.status.idle": "2022-08-22T04:45:13.626643Z",
     "shell.execute_reply": "2022-08-22T04:45:13.625321Z"
    },
    "papermill": {
     "duration": 1.388175,
     "end_time": "2022-08-22T04:45:13.629657",
     "exception": false,
     "start_time": "2022-08-22T04:45:12.241482",
     "status": "completed"
    },
    "tags": []
   },
   "outputs": [],
   "source": [
    "import pandas as pd\n",
    "from sklearn.model_selection import train_test_split\n",
    "\n",
    "# Read the data\n",
    "X = pd.read_csv('../input/train.csv', index_col='Id') \n",
    "X_test = pd.read_csv('../input/test.csv', index_col='Id')\n",
    "\n",
    "# Remove rows with missing target, separate target from predictors\n",
    "X.dropna(axis=0, subset=['SalePrice'], inplace=True)\n",
    "y = X.SalePrice\n",
    "X.drop(['SalePrice'], axis=1, inplace=True)\n",
    "\n",
    "# To keep things simple, we'll drop columns with missing values\n",
    "cols_with_missing = [col for col in X.columns if X[col].isnull().any()] \n",
    "X.drop(cols_with_missing, axis=1, inplace=True)\n",
    "X_test.drop(cols_with_missing, axis=1, inplace=True)\n",
    "\n",
    "# Break off validation set from training data\n",
    "X_train, X_valid, y_train, y_valid = train_test_split(X, y,\n",
    "                                                      train_size=0.8, test_size=0.2,\n",
    "                                                      random_state=0)"
   ]
  },
  {
   "cell_type": "markdown",
   "id": "a8459d8b",
   "metadata": {
    "papermill": {
     "duration": 0.009753,
     "end_time": "2022-08-22T04:45:13.649074",
     "exception": false,
     "start_time": "2022-08-22T04:45:13.639321",
     "status": "completed"
    },
    "tags": []
   },
   "source": [
    "Use the next code cell to print the first five rows of the data."
   ]
  },
  {
   "cell_type": "code",
   "execution_count": 3,
   "id": "97b2d720",
   "metadata": {
    "execution": {
     "iopub.execute_input": "2022-08-22T04:45:13.670163Z",
     "iopub.status.busy": "2022-08-22T04:45:13.669746Z",
     "iopub.status.idle": "2022-08-22T04:45:13.702330Z",
     "shell.execute_reply": "2022-08-22T04:45:13.700763Z"
    },
    "papermill": {
     "duration": 0.046581,
     "end_time": "2022-08-22T04:45:13.705247",
     "exception": false,
     "start_time": "2022-08-22T04:45:13.658666",
     "status": "completed"
    },
    "tags": []
   },
   "outputs": [
    {
     "data": {
      "text/html": [
       "<div>\n",
       "<style scoped>\n",
       "    .dataframe tbody tr th:only-of-type {\n",
       "        vertical-align: middle;\n",
       "    }\n",
       "\n",
       "    .dataframe tbody tr th {\n",
       "        vertical-align: top;\n",
       "    }\n",
       "\n",
       "    .dataframe thead th {\n",
       "        text-align: right;\n",
       "    }\n",
       "</style>\n",
       "<table border=\"1\" class=\"dataframe\">\n",
       "  <thead>\n",
       "    <tr style=\"text-align: right;\">\n",
       "      <th></th>\n",
       "      <th>MSSubClass</th>\n",
       "      <th>MSZoning</th>\n",
       "      <th>LotArea</th>\n",
       "      <th>Street</th>\n",
       "      <th>LotShape</th>\n",
       "      <th>LandContour</th>\n",
       "      <th>Utilities</th>\n",
       "      <th>LotConfig</th>\n",
       "      <th>LandSlope</th>\n",
       "      <th>Neighborhood</th>\n",
       "      <th>...</th>\n",
       "      <th>OpenPorchSF</th>\n",
       "      <th>EnclosedPorch</th>\n",
       "      <th>3SsnPorch</th>\n",
       "      <th>ScreenPorch</th>\n",
       "      <th>PoolArea</th>\n",
       "      <th>MiscVal</th>\n",
       "      <th>MoSold</th>\n",
       "      <th>YrSold</th>\n",
       "      <th>SaleType</th>\n",
       "      <th>SaleCondition</th>\n",
       "    </tr>\n",
       "    <tr>\n",
       "      <th>Id</th>\n",
       "      <th></th>\n",
       "      <th></th>\n",
       "      <th></th>\n",
       "      <th></th>\n",
       "      <th></th>\n",
       "      <th></th>\n",
       "      <th></th>\n",
       "      <th></th>\n",
       "      <th></th>\n",
       "      <th></th>\n",
       "      <th></th>\n",
       "      <th></th>\n",
       "      <th></th>\n",
       "      <th></th>\n",
       "      <th></th>\n",
       "      <th></th>\n",
       "      <th></th>\n",
       "      <th></th>\n",
       "      <th></th>\n",
       "      <th></th>\n",
       "      <th></th>\n",
       "    </tr>\n",
       "  </thead>\n",
       "  <tbody>\n",
       "    <tr>\n",
       "      <th>619</th>\n",
       "      <td>20</td>\n",
       "      <td>RL</td>\n",
       "      <td>11694</td>\n",
       "      <td>Pave</td>\n",
       "      <td>Reg</td>\n",
       "      <td>Lvl</td>\n",
       "      <td>AllPub</td>\n",
       "      <td>Inside</td>\n",
       "      <td>Gtl</td>\n",
       "      <td>NridgHt</td>\n",
       "      <td>...</td>\n",
       "      <td>108</td>\n",
       "      <td>0</td>\n",
       "      <td>0</td>\n",
       "      <td>260</td>\n",
       "      <td>0</td>\n",
       "      <td>0</td>\n",
       "      <td>7</td>\n",
       "      <td>2007</td>\n",
       "      <td>New</td>\n",
       "      <td>Partial</td>\n",
       "    </tr>\n",
       "    <tr>\n",
       "      <th>871</th>\n",
       "      <td>20</td>\n",
       "      <td>RL</td>\n",
       "      <td>6600</td>\n",
       "      <td>Pave</td>\n",
       "      <td>Reg</td>\n",
       "      <td>Lvl</td>\n",
       "      <td>AllPub</td>\n",
       "      <td>Inside</td>\n",
       "      <td>Gtl</td>\n",
       "      <td>NAmes</td>\n",
       "      <td>...</td>\n",
       "      <td>0</td>\n",
       "      <td>0</td>\n",
       "      <td>0</td>\n",
       "      <td>0</td>\n",
       "      <td>0</td>\n",
       "      <td>0</td>\n",
       "      <td>8</td>\n",
       "      <td>2009</td>\n",
       "      <td>WD</td>\n",
       "      <td>Normal</td>\n",
       "    </tr>\n",
       "    <tr>\n",
       "      <th>93</th>\n",
       "      <td>30</td>\n",
       "      <td>RL</td>\n",
       "      <td>13360</td>\n",
       "      <td>Pave</td>\n",
       "      <td>IR1</td>\n",
       "      <td>HLS</td>\n",
       "      <td>AllPub</td>\n",
       "      <td>Inside</td>\n",
       "      <td>Gtl</td>\n",
       "      <td>Crawfor</td>\n",
       "      <td>...</td>\n",
       "      <td>0</td>\n",
       "      <td>44</td>\n",
       "      <td>0</td>\n",
       "      <td>0</td>\n",
       "      <td>0</td>\n",
       "      <td>0</td>\n",
       "      <td>8</td>\n",
       "      <td>2009</td>\n",
       "      <td>WD</td>\n",
       "      <td>Normal</td>\n",
       "    </tr>\n",
       "    <tr>\n",
       "      <th>818</th>\n",
       "      <td>20</td>\n",
       "      <td>RL</td>\n",
       "      <td>13265</td>\n",
       "      <td>Pave</td>\n",
       "      <td>IR1</td>\n",
       "      <td>Lvl</td>\n",
       "      <td>AllPub</td>\n",
       "      <td>CulDSac</td>\n",
       "      <td>Gtl</td>\n",
       "      <td>Mitchel</td>\n",
       "      <td>...</td>\n",
       "      <td>59</td>\n",
       "      <td>0</td>\n",
       "      <td>0</td>\n",
       "      <td>0</td>\n",
       "      <td>0</td>\n",
       "      <td>0</td>\n",
       "      <td>7</td>\n",
       "      <td>2008</td>\n",
       "      <td>WD</td>\n",
       "      <td>Normal</td>\n",
       "    </tr>\n",
       "    <tr>\n",
       "      <th>303</th>\n",
       "      <td>20</td>\n",
       "      <td>RL</td>\n",
       "      <td>13704</td>\n",
       "      <td>Pave</td>\n",
       "      <td>IR1</td>\n",
       "      <td>Lvl</td>\n",
       "      <td>AllPub</td>\n",
       "      <td>Corner</td>\n",
       "      <td>Gtl</td>\n",
       "      <td>CollgCr</td>\n",
       "      <td>...</td>\n",
       "      <td>81</td>\n",
       "      <td>0</td>\n",
       "      <td>0</td>\n",
       "      <td>0</td>\n",
       "      <td>0</td>\n",
       "      <td>0</td>\n",
       "      <td>1</td>\n",
       "      <td>2006</td>\n",
       "      <td>WD</td>\n",
       "      <td>Normal</td>\n",
       "    </tr>\n",
       "  </tbody>\n",
       "</table>\n",
       "<p>5 rows × 60 columns</p>\n",
       "</div>"
      ],
      "text/plain": [
       "     MSSubClass MSZoning  LotArea Street LotShape LandContour Utilities  \\\n",
       "Id                                                                        \n",
       "619          20       RL    11694   Pave      Reg         Lvl    AllPub   \n",
       "871          20       RL     6600   Pave      Reg         Lvl    AllPub   \n",
       "93           30       RL    13360   Pave      IR1         HLS    AllPub   \n",
       "818          20       RL    13265   Pave      IR1         Lvl    AllPub   \n",
       "303          20       RL    13704   Pave      IR1         Lvl    AllPub   \n",
       "\n",
       "    LotConfig LandSlope Neighborhood  ... OpenPorchSF EnclosedPorch 3SsnPorch  \\\n",
       "Id                                    ...                                       \n",
       "619    Inside       Gtl      NridgHt  ...         108             0         0   \n",
       "871    Inside       Gtl        NAmes  ...           0             0         0   \n",
       "93     Inside       Gtl      Crawfor  ...           0            44         0   \n",
       "818   CulDSac       Gtl      Mitchel  ...          59             0         0   \n",
       "303    Corner       Gtl      CollgCr  ...          81             0         0   \n",
       "\n",
       "    ScreenPorch  PoolArea  MiscVal  MoSold  YrSold SaleType SaleCondition  \n",
       "Id                                                                         \n",
       "619         260         0        0       7    2007      New       Partial  \n",
       "871           0         0        0       8    2009       WD        Normal  \n",
       "93            0         0        0       8    2009       WD        Normal  \n",
       "818           0         0        0       7    2008       WD        Normal  \n",
       "303           0         0        0       1    2006       WD        Normal  \n",
       "\n",
       "[5 rows x 60 columns]"
      ]
     },
     "execution_count": 3,
     "metadata": {},
     "output_type": "execute_result"
    }
   ],
   "source": [
    "X_train.head()"
   ]
  },
  {
   "cell_type": "markdown",
   "id": "8e5ba58d",
   "metadata": {
    "papermill": {
     "duration": 0.00963,
     "end_time": "2022-08-22T04:45:13.724880",
     "exception": false,
     "start_time": "2022-08-22T04:45:13.715250",
     "status": "completed"
    },
    "tags": []
   },
   "source": [
    "Notice that the dataset contains both numerical and categorical variables.  You'll need to encode the categorical data before training a model.\n",
    "\n",
    "To compare different models, you'll use the same `score_dataset()` function from the tutorial.  This function reports the [mean absolute error](https://en.wikipedia.org/wiki/Mean_absolute_error) (MAE) from a random forest model."
   ]
  },
  {
   "cell_type": "code",
   "execution_count": 4,
   "id": "1a0fc7ba",
   "metadata": {
    "execution": {
     "iopub.execute_input": "2022-08-22T04:45:13.747318Z",
     "iopub.status.busy": "2022-08-22T04:45:13.746307Z",
     "iopub.status.idle": "2022-08-22T04:45:13.979411Z",
     "shell.execute_reply": "2022-08-22T04:45:13.978235Z"
    },
    "papermill": {
     "duration": 0.247472,
     "end_time": "2022-08-22T04:45:13.982243",
     "exception": false,
     "start_time": "2022-08-22T04:45:13.734771",
     "status": "completed"
    },
    "tags": []
   },
   "outputs": [],
   "source": [
    "from sklearn.ensemble import RandomForestRegressor\n",
    "from sklearn.metrics import mean_absolute_error\n",
    "\n",
    "# function for comparing different approaches\n",
    "def score_dataset(X_train, X_valid, y_train, y_valid):\n",
    "    model = RandomForestRegressor(n_estimators=100, random_state=0)\n",
    "    model.fit(X_train, y_train)\n",
    "    preds = model.predict(X_valid)\n",
    "    return mean_absolute_error(y_valid, preds)"
   ]
  },
  {
   "cell_type": "markdown",
   "id": "3590a2b5",
   "metadata": {
    "papermill": {
     "duration": 0.009516,
     "end_time": "2022-08-22T04:45:14.001529",
     "exception": false,
     "start_time": "2022-08-22T04:45:13.992013",
     "status": "completed"
    },
    "tags": []
   },
   "source": [
    "# Step 1: Drop columns with categorical data\n",
    "\n",
    "You'll get started with the most straightforward approach.  Use the code cell below to preprocess the data in `X_train` and `X_valid` to remove columns with categorical data.  Set the preprocessed DataFrames to `drop_X_train` and `drop_X_valid`, respectively.  "
   ]
  },
  {
   "cell_type": "code",
   "execution_count": 5,
   "id": "6f7672ff",
   "metadata": {
    "execution": {
     "iopub.execute_input": "2022-08-22T04:45:14.023414Z",
     "iopub.status.busy": "2022-08-22T04:45:14.022637Z",
     "iopub.status.idle": "2022-08-22T04:45:14.036818Z",
     "shell.execute_reply": "2022-08-22T04:45:14.035668Z"
    },
    "papermill": {
     "duration": 0.02783,
     "end_time": "2022-08-22T04:45:14.039219",
     "exception": false,
     "start_time": "2022-08-22T04:45:14.011389",
     "status": "completed"
    },
    "tags": []
   },
   "outputs": [
    {
     "data": {
      "application/javascript": [
       "parent.postMessage({\"jupyterEvent\": \"custom.exercise_interaction\", \"data\": {\"outcomeType\": 1, \"valueTowardsCompletion\": 0.5, \"interactionType\": 1, \"questionType\": 2, \"questionId\": \"1_Drop\", \"learnToolsVersion\": \"0.3.4\", \"failureMessage\": \"\", \"exceptionClass\": \"\", \"trace\": \"\"}}, \"*\")"
      ],
      "text/plain": [
       "<IPython.core.display.Javascript object>"
      ]
     },
     "metadata": {},
     "output_type": "display_data"
    },
    {
     "data": {
      "text/markdown": [
       "<span style=\"color:#33cc33\">Correct</span>"
      ],
      "text/plain": [
       "Correct"
      ]
     },
     "metadata": {},
     "output_type": "display_data"
    }
   ],
   "source": [
    "# Fill in the lines below: drop columns in training and validation data\n",
    "s = (X_train.dtypes == \"object\")\n",
    "cat = list(s[s].index)\n",
    "drop_X_train = X_train.drop(cat , axis = 1)\n",
    "drop_X_valid = X_valid.drop(cat , axis = 1)\n",
    "\n",
    "# Check your answers\n",
    "step_1.check()"
   ]
  },
  {
   "cell_type": "code",
   "execution_count": 6,
   "id": "f729b8ca",
   "metadata": {
    "execution": {
     "iopub.execute_input": "2022-08-22T04:45:14.061941Z",
     "iopub.status.busy": "2022-08-22T04:45:14.061557Z",
     "iopub.status.idle": "2022-08-22T04:45:14.065517Z",
     "shell.execute_reply": "2022-08-22T04:45:14.064596Z"
    },
    "papermill": {
     "duration": 0.018312,
     "end_time": "2022-08-22T04:45:14.067839",
     "exception": false,
     "start_time": "2022-08-22T04:45:14.049527",
     "status": "completed"
    },
    "tags": []
   },
   "outputs": [],
   "source": [
    "# Lines below will give you a hint or solution code\n",
    "#step_1.hint()\n",
    "#step_1.solution()"
   ]
  },
  {
   "cell_type": "markdown",
   "id": "978fb614",
   "metadata": {
    "papermill": {
     "duration": 0.009835,
     "end_time": "2022-08-22T04:45:14.087976",
     "exception": false,
     "start_time": "2022-08-22T04:45:14.078141",
     "status": "completed"
    },
    "tags": []
   },
   "source": [
    "Run the next code cell to get the MAE for this approach."
   ]
  },
  {
   "cell_type": "code",
   "execution_count": 7,
   "id": "471b6980",
   "metadata": {
    "execution": {
     "iopub.execute_input": "2022-08-22T04:45:14.110533Z",
     "iopub.status.busy": "2022-08-22T04:45:14.109709Z",
     "iopub.status.idle": "2022-08-22T04:45:15.227602Z",
     "shell.execute_reply": "2022-08-22T04:45:15.226151Z"
    },
    "papermill": {
     "duration": 1.132729,
     "end_time": "2022-08-22T04:45:15.230808",
     "exception": false,
     "start_time": "2022-08-22T04:45:14.098079",
     "status": "completed"
    },
    "tags": []
   },
   "outputs": [
    {
     "name": "stdout",
     "output_type": "stream",
     "text": [
      "MAE from Approach 1 (Drop categorical variables):\n",
      "17837.82570776256\n"
     ]
    }
   ],
   "source": [
    "print(\"MAE from Approach 1 (Drop categorical variables):\")\n",
    "print(score_dataset(drop_X_train, drop_X_valid, y_train, y_valid))"
   ]
  },
  {
   "cell_type": "markdown",
   "id": "743f816d",
   "metadata": {
    "papermill": {
     "duration": 0.010018,
     "end_time": "2022-08-22T04:45:15.251491",
     "exception": false,
     "start_time": "2022-08-22T04:45:15.241473",
     "status": "completed"
    },
    "tags": []
   },
   "source": [
    "Before jumping into ordinal encoding, we'll investigate the dataset.  Specifically, we'll look at the `'Condition2'` column.  The code cell below prints the unique entries in both the training and validation sets."
   ]
  },
  {
   "cell_type": "code",
   "execution_count": 8,
   "id": "d6471607",
   "metadata": {
    "execution": {
     "iopub.execute_input": "2022-08-22T04:45:15.273642Z",
     "iopub.status.busy": "2022-08-22T04:45:15.273189Z",
     "iopub.status.idle": "2022-08-22T04:45:15.282003Z",
     "shell.execute_reply": "2022-08-22T04:45:15.280488Z"
    },
    "papermill": {
     "duration": 0.02291,
     "end_time": "2022-08-22T04:45:15.284565",
     "exception": false,
     "start_time": "2022-08-22T04:45:15.261655",
     "status": "completed"
    },
    "tags": []
   },
   "outputs": [
    {
     "name": "stdout",
     "output_type": "stream",
     "text": [
      "Unique values in 'Condition2' column in training data: ['Norm' 'PosA' 'Feedr' 'PosN' 'Artery' 'RRAe']\n",
      "\n",
      "Unique values in 'Condition2' column in validation data: ['Norm' 'RRAn' 'RRNn' 'Artery' 'Feedr' 'PosN']\n"
     ]
    }
   ],
   "source": [
    "print(\"Unique values in 'Condition2' column in training data:\", X_train['Condition2'].unique())\n",
    "print(\"\\nUnique values in 'Condition2' column in validation data:\", X_valid['Condition2'].unique())"
   ]
  },
  {
   "cell_type": "markdown",
   "id": "6e5c6596",
   "metadata": {
    "papermill": {
     "duration": 0.010029,
     "end_time": "2022-08-22T04:45:15.304911",
     "exception": false,
     "start_time": "2022-08-22T04:45:15.294882",
     "status": "completed"
    },
    "tags": []
   },
   "source": [
    "# Step 2: Ordinal encoding\n",
    "\n",
    "### Part A\n",
    "\n",
    "If you now write code to: \n",
    "- fit an ordinal encoder to the training data, and then \n",
    "- use it to transform both the training and validation data, \n",
    "\n",
    "you'll get an error.  Can you see why this is the case?  (_You'll need  to use the above output to answer this question._)"
   ]
  },
  {
   "cell_type": "code",
   "execution_count": 9,
   "id": "9fed1336",
   "metadata": {
    "execution": {
     "iopub.execute_input": "2022-08-22T04:45:15.327621Z",
     "iopub.status.busy": "2022-08-22T04:45:15.327174Z",
     "iopub.status.idle": "2022-08-22T04:45:15.337355Z",
     "shell.execute_reply": "2022-08-22T04:45:15.336075Z"
    },
    "papermill": {
     "duration": 0.02445,
     "end_time": "2022-08-22T04:45:15.339612",
     "exception": false,
     "start_time": "2022-08-22T04:45:15.315162",
     "status": "completed"
    },
    "tags": []
   },
   "outputs": [
    {
     "data": {
      "application/javascript": [
       "parent.postMessage({\"jupyterEvent\": \"custom.exercise_interaction\", \"data\": {\"outcomeType\": 1, \"valueTowardsCompletion\": 0.5, \"interactionType\": 1, \"questionType\": 4, \"questionId\": \"2.1_LabelA\", \"learnToolsVersion\": \"0.3.4\", \"failureMessage\": \"\", \"exceptionClass\": \"\", \"trace\": \"\"}}, \"*\")"
      ],
      "text/plain": [
       "<IPython.core.display.Javascript object>"
      ]
     },
     "metadata": {},
     "output_type": "display_data"
    },
    {
     "data": {
      "text/markdown": [
       "<span style=\"color:#33cc33\">Correct:</span> \n",
       "\n",
       "Fitting an ordinal encoder to a column in the training data creates a corresponding integer-valued label for each unique value **that appears in the training data**. In the case that the validation data contains values that don't also appear in the training data, the encoder will throw an error, because these values won't have an integer assigned to them.  Notice that the `'Condition2'` column in the validation data contains the values `'RRAn'` and `'RRNn'`, but these don't appear in the training data -- thus, if we try to use an ordinal encoder with scikit-learn, the code will throw an error."
      ],
      "text/plain": [
       "Correct: \n",
       "\n",
       "Fitting an ordinal encoder to a column in the training data creates a corresponding integer-valued label for each unique value **that appears in the training data**. In the case that the validation data contains values that don't also appear in the training data, the encoder will throw an error, because these values won't have an integer assigned to them.  Notice that the `'Condition2'` column in the validation data contains the values `'RRAn'` and `'RRNn'`, but these don't appear in the training data -- thus, if we try to use an ordinal encoder with scikit-learn, the code will throw an error."
      ]
     },
     "metadata": {},
     "output_type": "display_data"
    }
   ],
   "source": [
    "# Check your answer (Run this code cell to receive credit!)\n",
    "step_2.a.check()"
   ]
  },
  {
   "cell_type": "code",
   "execution_count": 10,
   "id": "04329d50",
   "metadata": {
    "execution": {
     "iopub.execute_input": "2022-08-22T04:45:15.364246Z",
     "iopub.status.busy": "2022-08-22T04:45:15.363842Z",
     "iopub.status.idle": "2022-08-22T04:45:15.368689Z",
     "shell.execute_reply": "2022-08-22T04:45:15.367391Z"
    },
    "papermill": {
     "duration": 0.020104,
     "end_time": "2022-08-22T04:45:15.370968",
     "exception": false,
     "start_time": "2022-08-22T04:45:15.350864",
     "status": "completed"
    },
    "tags": []
   },
   "outputs": [],
   "source": [
    "#step_2.a.hint()"
   ]
  },
  {
   "cell_type": "markdown",
   "id": "7b9c14a5",
   "metadata": {
    "papermill": {
     "duration": 0.010531,
     "end_time": "2022-08-22T04:45:15.392300",
     "exception": false,
     "start_time": "2022-08-22T04:45:15.381769",
     "status": "completed"
    },
    "tags": []
   },
   "source": [
    "This is a common problem that you'll encounter with real-world data, and there are many approaches to fixing this issue.  For instance, you can write a custom ordinal encoder to deal with new categories.  The simplest approach, however, is to drop the problematic categorical columns.  \n",
    "\n",
    "Run the code cell below to save the problematic columns to a Python list `bad_label_cols`.  Likewise, columns that can be safely ordinal encoded are stored in `good_label_cols`."
   ]
  },
  {
   "cell_type": "code",
   "execution_count": 11,
   "id": "30c00781",
   "metadata": {
    "execution": {
     "iopub.execute_input": "2022-08-22T04:45:15.414992Z",
     "iopub.status.busy": "2022-08-22T04:45:15.414600Z",
     "iopub.status.idle": "2022-08-22T04:45:15.430152Z",
     "shell.execute_reply": "2022-08-22T04:45:15.428982Z"
    },
    "papermill": {
     "duration": 0.029819,
     "end_time": "2022-08-22T04:45:15.432832",
     "exception": false,
     "start_time": "2022-08-22T04:45:15.403013",
     "status": "completed"
    },
    "tags": []
   },
   "outputs": [
    {
     "name": "stdout",
     "output_type": "stream",
     "text": [
      "Categorical columns that will be ordinal encoded: ['MSZoning', 'Street', 'LotShape', 'LandContour', 'Utilities', 'LotConfig', 'LandSlope', 'Neighborhood', 'Condition1', 'BldgType', 'HouseStyle', 'RoofStyle', 'Exterior1st', 'Exterior2nd', 'ExterQual', 'ExterCond', 'Foundation', 'Heating', 'HeatingQC', 'CentralAir', 'KitchenQual', 'PavedDrive', 'SaleType', 'SaleCondition']\n",
      "\n",
      "Categorical columns that will be dropped from the dataset: ['Functional', 'RoofMatl', 'Condition2']\n"
     ]
    }
   ],
   "source": [
    "# Categorical columns in the training data\n",
    "object_cols = [col for col in X_train.columns if X_train[col].dtype == \"object\"]\n",
    "\n",
    "# Columns that can be safely ordinal encoded\n",
    "good_label_cols = [col for col in object_cols if \n",
    "                   set(X_valid[col]).issubset(set(X_train[col]))]\n",
    "        \n",
    "# Problematic columns that will be dropped from the dataset\n",
    "bad_label_cols = list(set(object_cols)-set(good_label_cols))\n",
    "        \n",
    "print('Categorical columns that will be ordinal encoded:', good_label_cols)\n",
    "print('\\nCategorical columns that will be dropped from the dataset:', bad_label_cols)"
   ]
  },
  {
   "cell_type": "markdown",
   "id": "0fcde09c",
   "metadata": {
    "papermill": {
     "duration": 0.01034,
     "end_time": "2022-08-22T04:45:15.453984",
     "exception": false,
     "start_time": "2022-08-22T04:45:15.443644",
     "status": "completed"
    },
    "tags": []
   },
   "source": [
    "### Part B\n",
    "\n",
    "Use the next code cell to ordinal encode the data in `X_train` and `X_valid`.  Set the preprocessed DataFrames to `label_X_train` and `label_X_valid`, respectively.  \n",
    "- We have provided code below to drop the categorical columns in `bad_label_cols` from the dataset. \n",
    "- You should ordinal encode the categorical columns in `good_label_cols`.  "
   ]
  },
  {
   "cell_type": "code",
   "execution_count": 12,
   "id": "625facda",
   "metadata": {
    "execution": {
     "iopub.execute_input": "2022-08-22T04:45:15.477243Z",
     "iopub.status.busy": "2022-08-22T04:45:15.476852Z",
     "iopub.status.idle": "2022-08-22T04:45:15.525120Z",
     "shell.execute_reply": "2022-08-22T04:45:15.524035Z"
    },
    "papermill": {
     "duration": 0.062655,
     "end_time": "2022-08-22T04:45:15.527376",
     "exception": false,
     "start_time": "2022-08-22T04:45:15.464721",
     "status": "completed"
    },
    "tags": []
   },
   "outputs": [
    {
     "data": {
      "application/javascript": [
       "parent.postMessage({\"jupyterEvent\": \"custom.exercise_interaction\", \"data\": {\"outcomeType\": 1, \"valueTowardsCompletion\": 0.5, \"interactionType\": 1, \"questionType\": 2, \"questionId\": \"2.2_LabelB\", \"learnToolsVersion\": \"0.3.4\", \"failureMessage\": \"\", \"exceptionClass\": \"\", \"trace\": \"\"}}, \"*\")"
      ],
      "text/plain": [
       "<IPython.core.display.Javascript object>"
      ]
     },
     "metadata": {},
     "output_type": "display_data"
    },
    {
     "data": {
      "text/markdown": [
       "<span style=\"color:#33cc33\">Correct</span>"
      ],
      "text/plain": [
       "Correct"
      ]
     },
     "metadata": {},
     "output_type": "display_data"
    }
   ],
   "source": [
    "from sklearn.preprocessing import OrdinalEncoder\n",
    "\n",
    "# Drop categorical columns that will not be encoded\n",
    "label_X_train = X_train.drop(bad_label_cols, axis=1)\n",
    "label_X_valid = X_valid.drop(bad_label_cols, axis=1)\n",
    "\n",
    "# Apply ordinal encoder \n",
    "# Your code here\n",
    "ordinal_encoder = OrdinalEncoder()\n",
    "label_X_train[good_label_cols] = ordinal_encoder.fit_transform(label_X_train[good_label_cols])\n",
    "label_X_valid[good_label_cols] = ordinal_encoder.transform(label_X_valid[good_label_cols])\n",
    "    \n",
    "# Check your answer\n",
    "step_2.b.check()"
   ]
  },
  {
   "cell_type": "code",
   "execution_count": 13,
   "id": "85eef0e2",
   "metadata": {
    "execution": {
     "iopub.execute_input": "2022-08-22T04:45:15.550921Z",
     "iopub.status.busy": "2022-08-22T04:45:15.550512Z",
     "iopub.status.idle": "2022-08-22T04:45:15.555826Z",
     "shell.execute_reply": "2022-08-22T04:45:15.554911Z"
    },
    "papermill": {
     "duration": 0.019624,
     "end_time": "2022-08-22T04:45:15.558029",
     "exception": false,
     "start_time": "2022-08-22T04:45:15.538405",
     "status": "completed"
    },
    "tags": []
   },
   "outputs": [],
   "source": [
    "# Lines below will give you a hint or solution code\n",
    "#step_2.b.hint()\n",
    "#step_2.b.solution()"
   ]
  },
  {
   "cell_type": "markdown",
   "id": "2ed0b640",
   "metadata": {
    "papermill": {
     "duration": 0.010569,
     "end_time": "2022-08-22T04:45:15.579459",
     "exception": false,
     "start_time": "2022-08-22T04:45:15.568890",
     "status": "completed"
    },
    "tags": []
   },
   "source": [
    "Run the next code cell to get the MAE for this approach."
   ]
  },
  {
   "cell_type": "code",
   "execution_count": 14,
   "id": "a8c887b7",
   "metadata": {
    "execution": {
     "iopub.execute_input": "2022-08-22T04:45:15.603113Z",
     "iopub.status.busy": "2022-08-22T04:45:15.602686Z",
     "iopub.status.idle": "2022-08-22T04:45:17.009207Z",
     "shell.execute_reply": "2022-08-22T04:45:17.007989Z"
    },
    "papermill": {
     "duration": 1.421175,
     "end_time": "2022-08-22T04:45:17.011681",
     "exception": false,
     "start_time": "2022-08-22T04:45:15.590506",
     "status": "completed"
    },
    "tags": []
   },
   "outputs": [
    {
     "name": "stdout",
     "output_type": "stream",
     "text": [
      "MAE from Approach 2 (Ordinal Encoding):\n",
      "17098.01649543379\n"
     ]
    }
   ],
   "source": [
    "print(\"MAE from Approach 2 (Ordinal Encoding):\") \n",
    "print(score_dataset(label_X_train, label_X_valid, y_train, y_valid))"
   ]
  },
  {
   "cell_type": "markdown",
   "id": "e1cca8c3",
   "metadata": {
    "papermill": {
     "duration": 0.010851,
     "end_time": "2022-08-22T04:45:17.033641",
     "exception": false,
     "start_time": "2022-08-22T04:45:17.022790",
     "status": "completed"
    },
    "tags": []
   },
   "source": [
    "So far, you've tried two different approaches to dealing with categorical variables.  And, you've seen that encoding categorical data yields better results than removing columns from the dataset.\n",
    "\n",
    "Soon, you'll try one-hot encoding.  Before then, there's one additional topic we need to cover.  Begin by running the next code cell without changes.  "
   ]
  },
  {
   "cell_type": "code",
   "execution_count": 15,
   "id": "0889d53b",
   "metadata": {
    "execution": {
     "iopub.execute_input": "2022-08-22T04:45:17.057587Z",
     "iopub.status.busy": "2022-08-22T04:45:17.057162Z",
     "iopub.status.idle": "2022-08-22T04:45:17.070446Z",
     "shell.execute_reply": "2022-08-22T04:45:17.069488Z"
    },
    "papermill": {
     "duration": 0.027964,
     "end_time": "2022-08-22T04:45:17.072698",
     "exception": false,
     "start_time": "2022-08-22T04:45:17.044734",
     "status": "completed"
    },
    "tags": []
   },
   "outputs": [
    {
     "data": {
      "text/plain": [
       "[('Street', 2),\n",
       " ('Utilities', 2),\n",
       " ('CentralAir', 2),\n",
       " ('LandSlope', 3),\n",
       " ('PavedDrive', 3),\n",
       " ('LotShape', 4),\n",
       " ('LandContour', 4),\n",
       " ('ExterQual', 4),\n",
       " ('KitchenQual', 4),\n",
       " ('MSZoning', 5),\n",
       " ('LotConfig', 5),\n",
       " ('BldgType', 5),\n",
       " ('ExterCond', 5),\n",
       " ('HeatingQC', 5),\n",
       " ('Condition2', 6),\n",
       " ('RoofStyle', 6),\n",
       " ('Foundation', 6),\n",
       " ('Heating', 6),\n",
       " ('Functional', 6),\n",
       " ('SaleCondition', 6),\n",
       " ('RoofMatl', 7),\n",
       " ('HouseStyle', 8),\n",
       " ('Condition1', 9),\n",
       " ('SaleType', 9),\n",
       " ('Exterior1st', 15),\n",
       " ('Exterior2nd', 16),\n",
       " ('Neighborhood', 25)]"
      ]
     },
     "execution_count": 15,
     "metadata": {},
     "output_type": "execute_result"
    }
   ],
   "source": [
    "# Get number of unique entries in each column with categorical data\n",
    "object_nunique = list(map(lambda col: X_train[col].nunique(), object_cols))\n",
    "d = dict(zip(object_cols, object_nunique))\n",
    "\n",
    "# Print number of unique entries by column, in ascending order\n",
    "sorted(d.items(), key=lambda x: x[1])"
   ]
  },
  {
   "cell_type": "markdown",
   "id": "46179eaf",
   "metadata": {
    "papermill": {
     "duration": 0.010816,
     "end_time": "2022-08-22T04:45:17.095029",
     "exception": false,
     "start_time": "2022-08-22T04:45:17.084213",
     "status": "completed"
    },
    "tags": []
   },
   "source": [
    "# Step 3: Investigating cardinality\n",
    "\n",
    "### Part A\n",
    "\n",
    "The output above shows, for each column with categorical data, the number of unique values in the column.  For instance, the `'Street'` column in the training data has two unique values: `'Grvl'` and `'Pave'`, corresponding to a gravel road and a paved road, respectively.\n",
    "\n",
    "We refer to the number of unique entries of a categorical variable as the **cardinality** of that categorical variable.  For instance, the `'Street'` variable has cardinality 2.\n",
    "\n",
    "Use the output above to answer the questions below."
   ]
  },
  {
   "cell_type": "code",
   "execution_count": 16,
   "id": "3e4e2e91",
   "metadata": {
    "execution": {
     "iopub.execute_input": "2022-08-22T04:45:17.119728Z",
     "iopub.status.busy": "2022-08-22T04:45:17.119032Z",
     "iopub.status.idle": "2022-08-22T04:45:17.127281Z",
     "shell.execute_reply": "2022-08-22T04:45:17.126362Z"
    },
    "papermill": {
     "duration": 0.023843,
     "end_time": "2022-08-22T04:45:17.129846",
     "exception": false,
     "start_time": "2022-08-22T04:45:17.106003",
     "status": "completed"
    },
    "tags": []
   },
   "outputs": [
    {
     "data": {
      "application/javascript": [
       "parent.postMessage({\"jupyterEvent\": \"custom.exercise_interaction\", \"data\": {\"outcomeType\": 1, \"valueTowardsCompletion\": 0.5, \"interactionType\": 1, \"questionType\": 1, \"questionId\": \"3.1_CardinalityA\", \"learnToolsVersion\": \"0.3.4\", \"failureMessage\": \"\", \"exceptionClass\": \"\", \"trace\": \"\"}}, \"*\")"
      ],
      "text/plain": [
       "<IPython.core.display.Javascript object>"
      ]
     },
     "metadata": {},
     "output_type": "display_data"
    },
    {
     "data": {
      "text/markdown": [
       "<span style=\"color:#33cc33\">Correct</span>"
      ],
      "text/plain": [
       "Correct"
      ]
     },
     "metadata": {},
     "output_type": "display_data"
    }
   ],
   "source": [
    "# Fill in the line below: How many categorical variables in the training data\n",
    "# have cardinality greater than 10?\n",
    "high_cardinality_numcols = 3\n",
    "\n",
    "# Fill in the line below: How many columns are needed to one-hot encode the \n",
    "# 'Neighborhood' variable in the training data?\n",
    "num_cols_neighborhood = 25\n",
    "\n",
    "# Check your answers\n",
    "step_3.a.check()"
   ]
  },
  {
   "cell_type": "code",
   "execution_count": 17,
   "id": "2fe8a672",
   "metadata": {
    "execution": {
     "iopub.execute_input": "2022-08-22T04:45:17.154664Z",
     "iopub.status.busy": "2022-08-22T04:45:17.154173Z",
     "iopub.status.idle": "2022-08-22T04:45:17.159162Z",
     "shell.execute_reply": "2022-08-22T04:45:17.157971Z"
    },
    "papermill": {
     "duration": 0.020118,
     "end_time": "2022-08-22T04:45:17.161572",
     "exception": false,
     "start_time": "2022-08-22T04:45:17.141454",
     "status": "completed"
    },
    "tags": []
   },
   "outputs": [],
   "source": [
    "# Lines below will give you a hint or solution code\n",
    "#step_3.a.hint()\n",
    "#step_3.a.solution()"
   ]
  },
  {
   "cell_type": "markdown",
   "id": "8e177a07",
   "metadata": {
    "papermill": {
     "duration": 0.011566,
     "end_time": "2022-08-22T04:45:17.184656",
     "exception": false,
     "start_time": "2022-08-22T04:45:17.173090",
     "status": "completed"
    },
    "tags": []
   },
   "source": [
    "### Part B\n",
    "\n",
    "For large datasets with many rows, one-hot encoding can greatly expand the size of the dataset.  For this reason, we typically will only one-hot encode columns with relatively low cardinality.  Then, high cardinality columns can either be dropped from the dataset, or we can use ordinal encoding.\n",
    "\n",
    "As an example, consider a dataset with 10,000 rows, and containing one categorical column with 100 unique entries.  \n",
    "- If this column is replaced with the corresponding one-hot encoding, how many entries are added to the dataset?  \n",
    "- If we instead replace the column with the ordinal encoding, how many entries are added?  \n",
    "\n",
    "Use your answers to fill in the lines below."
   ]
  },
  {
   "cell_type": "code",
   "execution_count": 18,
   "id": "11e4ee97",
   "metadata": {
    "execution": {
     "iopub.execute_input": "2022-08-22T04:45:17.208987Z",
     "iopub.status.busy": "2022-08-22T04:45:17.208596Z",
     "iopub.status.idle": "2022-08-22T04:45:17.218925Z",
     "shell.execute_reply": "2022-08-22T04:45:17.217702Z"
    },
    "papermill": {
     "duration": 0.025202,
     "end_time": "2022-08-22T04:45:17.221143",
     "exception": false,
     "start_time": "2022-08-22T04:45:17.195941",
     "status": "completed"
    },
    "tags": []
   },
   "outputs": [
    {
     "data": {
      "application/javascript": [
       "parent.postMessage({\"jupyterEvent\": \"custom.exercise_interaction\", \"data\": {\"outcomeType\": 1, \"valueTowardsCompletion\": 0.5, \"interactionType\": 1, \"questionType\": 1, \"questionId\": \"3.2_CardinalityB\", \"learnToolsVersion\": \"0.3.4\", \"failureMessage\": \"\", \"exceptionClass\": \"\", \"trace\": \"\"}}, \"*\")"
      ],
      "text/plain": [
       "<IPython.core.display.Javascript object>"
      ]
     },
     "metadata": {},
     "output_type": "display_data"
    },
    {
     "data": {
      "text/markdown": [
       "<span style=\"color:#33cc33\">Correct</span>"
      ],
      "text/plain": [
       "Correct"
      ]
     },
     "metadata": {},
     "output_type": "display_data"
    }
   ],
   "source": [
    "# Fill in the line below: How many entries are added to the dataset by \n",
    "# replacing the column with a one-hot encoding?\n",
    "OH_entries_added = 990000\n",
    "\n",
    "# Fill in the line below: How many entries are added to the dataset by\n",
    "# replacing the column with an ordinal encoding?\n",
    "label_entries_added = 0\n",
    "\n",
    "# Check your answers\n",
    "step_3.b.check()"
   ]
  },
  {
   "cell_type": "code",
   "execution_count": 19,
   "id": "5a830b51",
   "metadata": {
    "execution": {
     "iopub.execute_input": "2022-08-22T04:45:17.246380Z",
     "iopub.status.busy": "2022-08-22T04:45:17.245586Z",
     "iopub.status.idle": "2022-08-22T04:45:17.253605Z",
     "shell.execute_reply": "2022-08-22T04:45:17.252743Z"
    },
    "papermill": {
     "duration": 0.023155,
     "end_time": "2022-08-22T04:45:17.255781",
     "exception": false,
     "start_time": "2022-08-22T04:45:17.232626",
     "status": "completed"
    },
    "tags": []
   },
   "outputs": [
    {
     "data": {
      "application/javascript": [
       "parent.postMessage({\"jupyterEvent\": \"custom.exercise_interaction\", \"data\": {\"interactionType\": 2, \"questionType\": 1, \"questionId\": \"3.2_CardinalityB\", \"learnToolsVersion\": \"0.3.4\", \"valueTowardsCompletion\": 0.0, \"failureMessage\": \"\", \"exceptionClass\": \"\", \"trace\": \"\", \"outcomeType\": 4}}, \"*\")"
      ],
      "text/plain": [
       "<IPython.core.display.Javascript object>"
      ]
     },
     "metadata": {},
     "output_type": "display_data"
    },
    {
     "data": {
      "text/markdown": [
       "<span style=\"color:#3366cc\">Hint:</span> To calculate how many entries are added to the dataset through the one-hot encoding, begin by calculating how many entries are needed to encode the categorical variable (by multiplying the number of rows by the number of columns in the one-hot encoding). Then, to obtain how many entries are **added** to the dataset, subtract the number of entries in the original column."
      ],
      "text/plain": [
       "Hint: To calculate how many entries are added to the dataset through the one-hot encoding, begin by calculating how many entries are needed to encode the categorical variable (by multiplying the number of rows by the number of columns in the one-hot encoding). Then, to obtain how many entries are **added** to the dataset, subtract the number of entries in the original column."
      ]
     },
     "metadata": {},
     "output_type": "display_data"
    }
   ],
   "source": [
    "# Lines below will give you a hint or solution code\n",
    "step_3.b.hint()\n",
    "#step_3.b.solution()"
   ]
  },
  {
   "cell_type": "markdown",
   "id": "6276bf93",
   "metadata": {
    "papermill": {
     "duration": 0.011473,
     "end_time": "2022-08-22T04:45:17.279198",
     "exception": false,
     "start_time": "2022-08-22T04:45:17.267725",
     "status": "completed"
    },
    "tags": []
   },
   "source": [
    "Next, you'll experiment with one-hot encoding.  But, instead of encoding all of the categorical variables in the dataset, you'll only create a one-hot encoding for columns with cardinality less than 10.\n",
    "\n",
    "Run the code cell below without changes to set `low_cardinality_cols` to a Python list containing the columns that will be one-hot encoded.  Likewise, `high_cardinality_cols` contains a list of categorical columns that will be dropped from the dataset."
   ]
  },
  {
   "cell_type": "code",
   "execution_count": 20,
   "id": "87caf23c",
   "metadata": {
    "execution": {
     "iopub.execute_input": "2022-08-22T04:45:17.304423Z",
     "iopub.status.busy": "2022-08-22T04:45:17.304013Z",
     "iopub.status.idle": "2022-08-22T04:45:17.316709Z",
     "shell.execute_reply": "2022-08-22T04:45:17.315451Z"
    },
    "papermill": {
     "duration": 0.028083,
     "end_time": "2022-08-22T04:45:17.319042",
     "exception": false,
     "start_time": "2022-08-22T04:45:17.290959",
     "status": "completed"
    },
    "tags": []
   },
   "outputs": [
    {
     "name": "stdout",
     "output_type": "stream",
     "text": [
      "Categorical columns that will be one-hot encoded: ['MSZoning', 'Street', 'LotShape', 'LandContour', 'Utilities', 'LotConfig', 'LandSlope', 'Condition1', 'Condition2', 'BldgType', 'HouseStyle', 'RoofStyle', 'RoofMatl', 'ExterQual', 'ExterCond', 'Foundation', 'Heating', 'HeatingQC', 'CentralAir', 'KitchenQual', 'Functional', 'PavedDrive', 'SaleType', 'SaleCondition']\n",
      "\n",
      "Categorical columns that will be dropped from the dataset: ['Neighborhood', 'Exterior1st', 'Exterior2nd']\n"
     ]
    }
   ],
   "source": [
    "# Columns that will be one-hot encoded\n",
    "low_cardinality_cols = [col for col in object_cols if X_train[col].nunique() < 10]\n",
    "\n",
    "# Columns that will be dropped from the dataset\n",
    "high_cardinality_cols = list(set(object_cols)-set(low_cardinality_cols))\n",
    "\n",
    "print('Categorical columns that will be one-hot encoded:', low_cardinality_cols)\n",
    "print('\\nCategorical columns that will be dropped from the dataset:', high_cardinality_cols)"
   ]
  },
  {
   "cell_type": "markdown",
   "id": "95b230d7",
   "metadata": {
    "papermill": {
     "duration": 0.011617,
     "end_time": "2022-08-22T04:45:17.342720",
     "exception": false,
     "start_time": "2022-08-22T04:45:17.331103",
     "status": "completed"
    },
    "tags": []
   },
   "source": [
    "# Step 4: One-hot encoding\n",
    "\n",
    "Use the next code cell to one-hot encode the data in `X_train` and `X_valid`.  Set the preprocessed DataFrames to `OH_X_train` and `OH_X_valid`, respectively.  \n",
    "- The full list of categorical columns in the dataset can be found in the Python list `object_cols`.\n",
    "- You should only one-hot encode the categorical columns in `low_cardinality_cols`.  All other categorical columns should be dropped from the dataset. "
   ]
  },
  {
   "cell_type": "code",
   "execution_count": 21,
   "id": "3e8348d5",
   "metadata": {
    "execution": {
     "iopub.execute_input": "2022-08-22T04:45:17.368798Z",
     "iopub.status.busy": "2022-08-22T04:45:17.368059Z",
     "iopub.status.idle": "2022-08-22T04:45:17.409147Z",
     "shell.execute_reply": "2022-08-22T04:45:17.407847Z"
    },
    "papermill": {
     "duration": 0.056708,
     "end_time": "2022-08-22T04:45:17.411367",
     "exception": false,
     "start_time": "2022-08-22T04:45:17.354659",
     "status": "completed"
    },
    "tags": []
   },
   "outputs": [
    {
     "data": {
      "application/javascript": [
       "parent.postMessage({\"jupyterEvent\": \"custom.exercise_interaction\", \"data\": {\"outcomeType\": 1, \"valueTowardsCompletion\": 0.5, \"interactionType\": 1, \"questionType\": 2, \"questionId\": \"4_OneHot\", \"learnToolsVersion\": \"0.3.4\", \"failureMessage\": \"\", \"exceptionClass\": \"\", \"trace\": \"\"}}, \"*\")"
      ],
      "text/plain": [
       "<IPython.core.display.Javascript object>"
      ]
     },
     "metadata": {},
     "output_type": "display_data"
    },
    {
     "data": {
      "text/markdown": [
       "<span style=\"color:#33cc33\">Correct</span>"
      ],
      "text/plain": [
       "Correct"
      ]
     },
     "metadata": {},
     "output_type": "display_data"
    }
   ],
   "source": [
    "from sklearn.preprocessing import OneHotEncoder\n",
    "\n",
    "# Use as many lines of code as you need!\n",
    "OH = OneHotEncoder(handle_unknown='ignore', sparse=False)\n",
    "xtrain = pd.DataFrame(OH.fit_transform(X_train[low_cardinality_cols]))\n",
    "xvalid = pd.DataFrame(OH.transform(X_valid[low_cardinality_cols]))\n",
    "xtrain.index = X_train.index\n",
    "xvalid.index = X_valid.index \n",
    "x_train =X_train.drop(object_cols , axis = 1)\n",
    "x_valid =X_valid.drop(object_cols, axis=1)\n",
    "OH_X_train = pd.concat([x_train , xtrain] , axis = 1) # Your code here\n",
    "OH_X_valid = pd.concat([x_valid , xvalid], axis =1) # Your code here\n",
    "\n",
    "# Check your answer\n",
    "step_4.check()"
   ]
  },
  {
   "cell_type": "code",
   "execution_count": 22,
   "id": "5dfd021d",
   "metadata": {
    "execution": {
     "iopub.execute_input": "2022-08-22T04:45:17.438227Z",
     "iopub.status.busy": "2022-08-22T04:45:17.437356Z",
     "iopub.status.idle": "2022-08-22T04:45:17.441982Z",
     "shell.execute_reply": "2022-08-22T04:45:17.440884Z"
    },
    "papermill": {
     "duration": 0.020695,
     "end_time": "2022-08-22T04:45:17.444145",
     "exception": false,
     "start_time": "2022-08-22T04:45:17.423450",
     "status": "completed"
    },
    "tags": []
   },
   "outputs": [],
   "source": [
    "# Lines below will give you a hint or solution code\n",
    "#step_4.hint()\n",
    "# step_4.solution()"
   ]
  },
  {
   "cell_type": "markdown",
   "id": "9261c235",
   "metadata": {
    "papermill": {
     "duration": 0.01196,
     "end_time": "2022-08-22T04:45:17.468329",
     "exception": false,
     "start_time": "2022-08-22T04:45:17.456369",
     "status": "completed"
    },
    "tags": []
   },
   "source": [
    "Run the next code cell to get the MAE for this approach."
   ]
  },
  {
   "cell_type": "code",
   "execution_count": 23,
   "id": "84fe53c3",
   "metadata": {
    "execution": {
     "iopub.execute_input": "2022-08-22T04:45:17.494997Z",
     "iopub.status.busy": "2022-08-22T04:45:17.494150Z",
     "iopub.status.idle": "2022-08-22T04:45:19.296469Z",
     "shell.execute_reply": "2022-08-22T04:45:19.295300Z"
    },
    "papermill": {
     "duration": 1.819728,
     "end_time": "2022-08-22T04:45:19.300208",
     "exception": false,
     "start_time": "2022-08-22T04:45:17.480480",
     "status": "completed"
    },
    "tags": []
   },
   "outputs": [
    {
     "name": "stdout",
     "output_type": "stream",
     "text": [
      "MAE from Approach 3 (One-Hot Encoding):\n"
     ]
    },
    {
     "name": "stderr",
     "output_type": "stream",
     "text": [
      "/opt/conda/lib/python3.7/site-packages/sklearn/utils/validation.py:1692: FutureWarning: Feature names only support names that are all strings. Got feature names with dtypes: ['int', 'str']. An error will be raised in 1.2.\n",
      "  FutureWarning,\n"
     ]
    },
    {
     "name": "stdout",
     "output_type": "stream",
     "text": [
      "17525.345719178084\n"
     ]
    },
    {
     "name": "stderr",
     "output_type": "stream",
     "text": [
      "/opt/conda/lib/python3.7/site-packages/sklearn/utils/validation.py:1692: FutureWarning: Feature names only support names that are all strings. Got feature names with dtypes: ['int', 'str']. An error will be raised in 1.2.\n",
      "  FutureWarning,\n"
     ]
    }
   ],
   "source": [
    "print(\"MAE from Approach 3 (One-Hot Encoding):\") \n",
    "print(score_dataset(OH_X_train, OH_X_valid, y_train, y_valid))"
   ]
  },
  {
   "cell_type": "markdown",
   "id": "514a692b",
   "metadata": {
    "papermill": {
     "duration": 0.011832,
     "end_time": "2022-08-22T04:45:19.325071",
     "exception": false,
     "start_time": "2022-08-22T04:45:19.313239",
     "status": "completed"
    },
    "tags": []
   },
   "source": [
    "# Generate test predictions and submit your results\n",
    "\n",
    "After you complete Step 4, if you'd like to use what you've learned to submit your results to the leaderboard, you'll need to preprocess the test data before generating predictions.\n",
    "\n",
    "**This step is completely optional, and you do not need to submit results to the leaderboard to successfully complete the exercise.**\n",
    "\n",
    "Check out the previous exercise if you need help with remembering how to [join the competition](https://www.kaggle.com/c/home-data-for-ml-course) or save your results to CSV.  Once you have generated a file with your results, follow the instructions below:\n",
    "1. Begin by clicking on the **Save Version** button in the top right corner of the window.  This will generate a pop-up window.  \n",
    "2. Ensure that the **Save and Run All** option is selected, and then click on the **Save** button.\n",
    "3. This generates a window in the bottom left corner of the notebook.  After it has finished running, click on the number to the right of the **Save Version** button.  This pulls up a list of versions on the right of the screen.  Click on the ellipsis **(...)** to the right of the most recent version, and select **Open in Viewer**.  This brings you into view mode of the same page. You will need to scroll down to get back to these instructions.\n",
    "4. Click on the **Output** tab on the right of the screen.  Then, click on the file you would like to submit, and click on the **Submit** button to submit your results to the leaderboard.\n",
    "\n",
    "You have now successfully submitted to the competition!\n",
    "\n",
    "If you want to keep working to improve your performance, select the **Edit** button in the top right of the screen. Then you can change your code and repeat the process. There's a lot of room to improve, and you will climb up the leaderboard as you work.\n"
   ]
  },
  {
   "cell_type": "code",
   "execution_count": 24,
   "id": "bfa19f7d",
   "metadata": {
    "execution": {
     "iopub.execute_input": "2022-08-22T04:45:19.351673Z",
     "iopub.status.busy": "2022-08-22T04:45:19.350919Z",
     "iopub.status.idle": "2022-08-22T04:45:19.355067Z",
     "shell.execute_reply": "2022-08-22T04:45:19.354176Z"
    },
    "papermill": {
     "duration": 0.020059,
     "end_time": "2022-08-22T04:45:19.357286",
     "exception": false,
     "start_time": "2022-08-22T04:45:19.337227",
     "status": "completed"
    },
    "tags": []
   },
   "outputs": [],
   "source": [
    "# (Optional) Your code here"
   ]
  },
  {
   "cell_type": "markdown",
   "id": "2a900668",
   "metadata": {
    "papermill": {
     "duration": 0.012195,
     "end_time": "2022-08-22T04:45:19.381801",
     "exception": false,
     "start_time": "2022-08-22T04:45:19.369606",
     "status": "completed"
    },
    "tags": []
   },
   "source": [
    "# Keep going\n",
    "\n",
    "With missing value handling and categorical encoding, your modeling process is getting complex. This complexity gets worse when you want to save your model to use in the future. The key to managing this complexity is something called **pipelines**. \n",
    "\n",
    "**[Learn to use pipelines](https://www.kaggle.com/alexisbcook/pipelines)** to preprocess datasets with categorical variables, missing values and any other messiness your data throws at you."
   ]
  },
  {
   "cell_type": "markdown",
   "id": "22937b1d",
   "metadata": {
    "papermill": {
     "duration": 0.011802,
     "end_time": "2022-08-22T04:45:19.406314",
     "exception": false,
     "start_time": "2022-08-22T04:45:19.394512",
     "status": "completed"
    },
    "tags": []
   },
   "source": [
    "---\n",
    "\n",
    "\n",
    "\n",
    "\n",
    "*Have questions or comments? Visit the [course discussion forum](https://www.kaggle.com/learn/intermediate-machine-learning/discussion) to chat with other learners.*"
   ]
  }
 ],
 "metadata": {
  "kernelspec": {
   "display_name": "Python 3",
   "language": "python",
   "name": "python3"
  },
  "language_info": {
   "codemirror_mode": {
    "name": "ipython",
    "version": 3
   },
   "file_extension": ".py",
   "mimetype": "text/x-python",
   "name": "python",
   "nbconvert_exporter": "python",
   "pygments_lexer": "ipython3",
   "version": "3.7.12"
  },
  "papermill": {
   "default_parameters": {},
   "duration": 18.235243,
   "end_time": "2022-08-22T04:45:20.140623",
   "environment_variables": {},
   "exception": null,
   "input_path": "__notebook__.ipynb",
   "output_path": "__notebook__.ipynb",
   "parameters": {},
   "start_time": "2022-08-22T04:45:01.905380",
   "version": "2.3.4"
  }
 },
 "nbformat": 4,
 "nbformat_minor": 5
}
