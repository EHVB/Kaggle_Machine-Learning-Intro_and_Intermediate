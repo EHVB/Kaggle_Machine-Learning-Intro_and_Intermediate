{
 "cells": [
  {
   "cell_type": "markdown",
   "id": "6d1afb76",
   "metadata": {
    "papermill": {
     "duration": 0.004757,
     "end_time": "2022-08-18T01:06:23.062285",
     "exception": false,
     "start_time": "2022-08-18T01:06:23.057528",
     "status": "completed"
    },
    "tags": []
   },
   "source": [
    "**This notebook is an exercise in the [Introduction to Machine Learning](https://www.kaggle.com/learn/intro-to-machine-learning) course.  You can reference the tutorial at [this link](https://www.kaggle.com/dansbecker/underfitting-and-overfitting).**\n",
    "\n",
    "---\n"
   ]
  },
  {
   "cell_type": "markdown",
   "id": "a6dd3cb8",
   "metadata": {
    "papermill": {
     "duration": 0.003308,
     "end_time": "2022-08-18T01:06:23.070076",
     "exception": false,
     "start_time": "2022-08-18T01:06:23.066768",
     "status": "completed"
    },
    "tags": []
   },
   "source": [
    "## Recap\n",
    "You've built your first model, and now it's time to optimize the size of the tree to make better predictions. Run this cell to set up your coding environment where the previous step left off."
   ]
  },
  {
   "cell_type": "code",
   "execution_count": 1,
   "id": "22897968",
   "metadata": {
    "execution": {
     "iopub.execute_input": "2022-08-18T01:06:23.079792Z",
     "iopub.status.busy": "2022-08-18T01:06:23.079040Z",
     "iopub.status.idle": "2022-08-18T01:06:24.649720Z",
     "shell.execute_reply": "2022-08-18T01:06:24.648477Z"
    },
    "papermill": {
     "duration": 1.578913,
     "end_time": "2022-08-18T01:06:24.652540",
     "exception": false,
     "start_time": "2022-08-18T01:06:23.073627",
     "status": "completed"
    },
    "tags": []
   },
   "outputs": [
    {
     "name": "stdout",
     "output_type": "stream",
     "text": [
      "Validation MAE: 29,653\n",
      "\n",
      "Setup complete\n"
     ]
    }
   ],
   "source": [
    "# Code you have previously used to load data\n",
    "import pandas as pd\n",
    "from sklearn.metrics import mean_absolute_error\n",
    "from sklearn.model_selection import train_test_split\n",
    "from sklearn.tree import DecisionTreeRegressor\n",
    "\n",
    "\n",
    "# Path of the file to read\n",
    "iowa_file_path = '../input/home-data-for-ml-course/train.csv'\n",
    "\n",
    "home_data = pd.read_csv(iowa_file_path)\n",
    "# Create target object and call it y\n",
    "y = home_data.SalePrice\n",
    "# Create X\n",
    "features = ['LotArea', 'YearBuilt', '1stFlrSF', '2ndFlrSF', 'FullBath', 'BedroomAbvGr', 'TotRmsAbvGrd']\n",
    "X = home_data[features]\n",
    "\n",
    "# Split into validation and training data\n",
    "train_X, val_X, train_y, val_y = train_test_split(X, y, random_state=1)\n",
    "\n",
    "# Specify Model\n",
    "iowa_model = DecisionTreeRegressor(random_state=1)\n",
    "# Fit Model\n",
    "iowa_model.fit(train_X, train_y)\n",
    "\n",
    "# Make validation predictions and calculate mean absolute error\n",
    "val_predictions = iowa_model.predict(val_X)\n",
    "val_mae = mean_absolute_error(val_predictions, val_y)\n",
    "print(\"Validation MAE: {:,.0f}\".format(val_mae))\n",
    "\n",
    "# Set up code checking\n",
    "from learntools.core import binder\n",
    "binder.bind(globals())\n",
    "from learntools.machine_learning.ex5 import *\n",
    "print(\"\\nSetup complete\")"
   ]
  },
  {
   "cell_type": "markdown",
   "id": "2937df0a",
   "metadata": {
    "papermill": {
     "duration": 0.003341,
     "end_time": "2022-08-18T01:06:24.660009",
     "exception": false,
     "start_time": "2022-08-18T01:06:24.656668",
     "status": "completed"
    },
    "tags": []
   },
   "source": [
    "# Exercises\n",
    "You could write the function `get_mae` yourself. For now, we'll supply it. This is the same function you read about in the previous lesson. Just run the cell below."
   ]
  },
  {
   "cell_type": "code",
   "execution_count": 2,
   "id": "bd690933",
   "metadata": {
    "execution": {
     "iopub.execute_input": "2022-08-18T01:06:24.669336Z",
     "iopub.status.busy": "2022-08-18T01:06:24.668657Z",
     "iopub.status.idle": "2022-08-18T01:06:24.674272Z",
     "shell.execute_reply": "2022-08-18T01:06:24.673231Z"
    },
    "papermill": {
     "duration": 0.01302,
     "end_time": "2022-08-18T01:06:24.676603",
     "exception": false,
     "start_time": "2022-08-18T01:06:24.663583",
     "status": "completed"
    },
    "tags": []
   },
   "outputs": [],
   "source": [
    "def get_mae(max_leaf_nodes, train_X, val_X, train_y, val_y):\n",
    "    model = DecisionTreeRegressor(max_leaf_nodes=max_leaf_nodes, random_state=0)\n",
    "    model.fit(train_X, train_y)\n",
    "    preds_val = model.predict(val_X)\n",
    "    mae = mean_absolute_error(val_y, preds_val)\n",
    "    return(mae)"
   ]
  },
  {
   "cell_type": "markdown",
   "id": "cebc01be",
   "metadata": {
    "papermill": {
     "duration": 0.003312,
     "end_time": "2022-08-18T01:06:24.683562",
     "exception": false,
     "start_time": "2022-08-18T01:06:24.680250",
     "status": "completed"
    },
    "tags": []
   },
   "source": [
    "## Step 1: Compare Different Tree Sizes\n",
    "Write a loop that tries the following values for *max_leaf_nodes* from a set of possible values.\n",
    "\n",
    "Call the *get_mae* function on each value of max_leaf_nodes. Store the output in some way that allows you to select the value of `max_leaf_nodes` that gives the most accurate model on your data."
   ]
  },
  {
   "cell_type": "code",
   "execution_count": 3,
   "id": "8f371959",
   "metadata": {
    "execution": {
     "iopub.execute_input": "2022-08-18T01:06:24.693384Z",
     "iopub.status.busy": "2022-08-18T01:06:24.692383Z",
     "iopub.status.idle": "2022-08-18T01:06:24.744455Z",
     "shell.execute_reply": "2022-08-18T01:06:24.743319Z"
    },
    "papermill": {
     "duration": 0.059702,
     "end_time": "2022-08-18T01:06:24.746952",
     "exception": false,
     "start_time": "2022-08-18T01:06:24.687250",
     "status": "completed"
    },
    "tags": []
   },
   "outputs": [
    {
     "name": "stdout",
     "output_type": "stream",
     "text": [
      "[35044.51299744237, 29016.41319191076, 27405.930473214907, 27282.50803885739, 27893.822225701646, 29454.18598068598]\n"
     ]
    },
    {
     "data": {
      "application/javascript": [
       "parent.postMessage({\"jupyterEvent\": \"custom.exercise_interaction\", \"data\": {\"outcomeType\": 1, \"valueTowardsCompletion\": 0.5, \"interactionType\": 1, \"questionType\": 1, \"questionId\": \"1_BestTreeSize\", \"learnToolsVersion\": \"0.3.4\", \"failureMessage\": \"\", \"exceptionClass\": \"\", \"trace\": \"\"}}, \"*\")"
      ],
      "text/plain": [
       "<IPython.core.display.Javascript object>"
      ]
     },
     "metadata": {},
     "output_type": "display_data"
    },
    {
     "data": {
      "text/markdown": [
       "<span style=\"color:#33cc33\">Correct</span>"
      ],
      "text/plain": [
       "Correct"
      ]
     },
     "metadata": {},
     "output_type": "display_data"
    }
   ],
   "source": [
    "candidate_max_leaf_nodes = [5, 25, 50, 100, 250, 500]\n",
    "# Write loop to find the ideal tree size from candidate_max_leaf_nodes\n",
    "l = []\n",
    "for x in candidate_max_leaf_nodes:\n",
    "    l.append(get_mae(x , train_X, val_X, train_y, val_y))\n",
    "print(l)\n",
    "# Store the best value of max_leaf_nodes (it will be either 5, 25, 50, 100, 250 or 500)\n",
    "best_tree_size = 100\n",
    "\n",
    "# Check your answer\n",
    "step_1.check()"
   ]
  },
  {
   "cell_type": "code",
   "execution_count": 4,
   "id": "2d280288",
   "metadata": {
    "execution": {
     "iopub.execute_input": "2022-08-18T01:06:24.756817Z",
     "iopub.status.busy": "2022-08-18T01:06:24.756317Z",
     "iopub.status.idle": "2022-08-18T01:06:24.766497Z",
     "shell.execute_reply": "2022-08-18T01:06:24.765231Z"
    },
    "papermill": {
     "duration": 0.01797,
     "end_time": "2022-08-18T01:06:24.768896",
     "exception": false,
     "start_time": "2022-08-18T01:06:24.750926",
     "status": "completed"
    },
    "tags": []
   },
   "outputs": [
    {
     "data": {
      "application/javascript": [
       "parent.postMessage({\"jupyterEvent\": \"custom.exercise_interaction\", \"data\": {\"interactionType\": 3, \"questionType\": 1, \"questionId\": \"1_BestTreeSize\", \"learnToolsVersion\": \"0.3.4\", \"valueTowardsCompletion\": 0.0, \"failureMessage\": \"\", \"exceptionClass\": \"\", \"trace\": \"\", \"outcomeType\": 4}}, \"*\")"
      ],
      "text/plain": [
       "<IPython.core.display.Javascript object>"
      ]
     },
     "metadata": {},
     "output_type": "display_data"
    },
    {
     "data": {
      "text/markdown": [
       "<span style=\"color:#33cc99\">Solution:</span> \n",
       "```python\n",
       "# Here is a short solution with a dict comprehension.\n",
       "# The lesson gives an example of how to do this with an explicit loop.\n",
       "scores = {leaf_size: get_mae(leaf_size, train_X, val_X, train_y, val_y) for leaf_size in candidate_max_leaf_nodes}\n",
       "best_tree_size = min(scores, key=scores.get)\n",
       "\n",
       "```"
      ],
      "text/plain": [
       "Solution: \n",
       "```python\n",
       "# Here is a short solution with a dict comprehension.\n",
       "# The lesson gives an example of how to do this with an explicit loop.\n",
       "scores = {leaf_size: get_mae(leaf_size, train_X, val_X, train_y, val_y) for leaf_size in candidate_max_leaf_nodes}\n",
       "best_tree_size = min(scores, key=scores.get)\n",
       "\n",
       "```"
      ]
     },
     "metadata": {},
     "output_type": "display_data"
    }
   ],
   "source": [
    "# The lines below will show you a hint or the solution.\n",
    "# step_1.hint() \n",
    "step_1.solution()"
   ]
  },
  {
   "cell_type": "markdown",
   "id": "d18665b3",
   "metadata": {
    "papermill": {
     "duration": 0.00396,
     "end_time": "2022-08-18T01:06:24.777202",
     "exception": false,
     "start_time": "2022-08-18T01:06:24.773242",
     "status": "completed"
    },
    "tags": []
   },
   "source": [
    "## Step 2: Fit Model Using All Data\n",
    "You know the best tree size. If you were going to deploy this model in practice, you would make it even more accurate by using all of the data and keeping that tree size.  That is, you don't need to hold out the validation data now that you've made all your modeling decisions."
   ]
  },
  {
   "cell_type": "code",
   "execution_count": 5,
   "id": "a585dcdc",
   "metadata": {
    "execution": {
     "iopub.execute_input": "2022-08-18T01:06:24.787916Z",
     "iopub.status.busy": "2022-08-18T01:06:24.787070Z",
     "iopub.status.idle": "2022-08-18T01:06:24.806184Z",
     "shell.execute_reply": "2022-08-18T01:06:24.804840Z"
    },
    "papermill": {
     "duration": 0.027664,
     "end_time": "2022-08-18T01:06:24.809021",
     "exception": false,
     "start_time": "2022-08-18T01:06:24.781357",
     "status": "completed"
    },
    "tags": []
   },
   "outputs": [
    {
     "data": {
      "application/javascript": [
       "parent.postMessage({\"jupyterEvent\": \"custom.exercise_interaction\", \"data\": {\"outcomeType\": 1, \"valueTowardsCompletion\": 0.5, \"interactionType\": 1, \"questionType\": 2, \"questionId\": \"2_FitModelWithAllData\", \"learnToolsVersion\": \"0.3.4\", \"failureMessage\": \"\", \"exceptionClass\": \"\", \"trace\": \"\"}}, \"*\")"
      ],
      "text/plain": [
       "<IPython.core.display.Javascript object>"
      ]
     },
     "metadata": {},
     "output_type": "display_data"
    },
    {
     "data": {
      "text/markdown": [
       "<span style=\"color:#33cc33\">Correct</span>"
      ],
      "text/plain": [
       "Correct"
      ]
     },
     "metadata": {},
     "output_type": "display_data"
    }
   ],
   "source": [
    "# Fill in argument to make optimal size and uncomment\n",
    "final_model = DecisionTreeRegressor(max_leaf_nodes = 100, random_state =0)\n",
    "\n",
    "# fit the final model and uncomment the next two lines\n",
    "final_model.fit(X,y)\n",
    "\n",
    "# Check your answer\n",
    "step_2.check()"
   ]
  },
  {
   "cell_type": "code",
   "execution_count": 6,
   "id": "3ceb7e48",
   "metadata": {
    "execution": {
     "iopub.execute_input": "2022-08-18T01:06:24.819875Z",
     "iopub.status.busy": "2022-08-18T01:06:24.819460Z",
     "iopub.status.idle": "2022-08-18T01:06:24.824556Z",
     "shell.execute_reply": "2022-08-18T01:06:24.823548Z"
    },
    "papermill": {
     "duration": 0.01357,
     "end_time": "2022-08-18T01:06:24.827050",
     "exception": false,
     "start_time": "2022-08-18T01:06:24.813480",
     "status": "completed"
    },
    "tags": []
   },
   "outputs": [],
   "source": [
    "# step_2.hint()\n",
    "# step_2.solution()"
   ]
  },
  {
   "cell_type": "markdown",
   "id": "a356f7dd",
   "metadata": {
    "papermill": {
     "duration": 0.004576,
     "end_time": "2022-08-18T01:06:24.836224",
     "exception": false,
     "start_time": "2022-08-18T01:06:24.831648",
     "status": "completed"
    },
    "tags": []
   },
   "source": [
    "You've tuned this model and improved your results. But we are still using Decision Tree models, which are not very sophisticated by modern machine learning standards. In the next step you will learn to use Random Forests to improve your models even more.\n",
    "\n",
    "# Keep Going\n",
    "\n",
    "You are ready for **[Random Forests](https://www.kaggle.com/dansbecker/random-forests).**\n"
   ]
  },
  {
   "cell_type": "markdown",
   "id": "71ddf2e2",
   "metadata": {
    "papermill": {
     "duration": 0.004048,
     "end_time": "2022-08-18T01:06:24.844599",
     "exception": false,
     "start_time": "2022-08-18T01:06:24.840551",
     "status": "completed"
    },
    "tags": []
   },
   "source": [
    "---\n",
    "\n",
    "\n",
    "\n",
    "\n",
    "*Have questions or comments? Visit the [course discussion forum](https://www.kaggle.com/learn/intro-to-machine-learning/discussion) to chat with other learners.*"
   ]
  }
 ],
 "metadata": {
  "kernelspec": {
   "display_name": "Python 3",
   "language": "python",
   "name": "python3"
  },
  "language_info": {
   "codemirror_mode": {
    "name": "ipython",
    "version": 3
   },
   "file_extension": ".py",
   "mimetype": "text/x-python",
   "name": "python",
   "nbconvert_exporter": "python",
   "pygments_lexer": "ipython3",
   "version": "3.7.12"
  },
  "papermill": {
   "default_parameters": {},
   "duration": 12.293492,
   "end_time": "2022-08-18T01:06:25.571463",
   "environment_variables": {},
   "exception": null,
   "input_path": "__notebook__.ipynb",
   "output_path": "__notebook__.ipynb",
   "parameters": {},
   "start_time": "2022-08-18T01:06:13.277971",
   "version": "2.3.4"
  }
 },
 "nbformat": 4,
 "nbformat_minor": 5
}
